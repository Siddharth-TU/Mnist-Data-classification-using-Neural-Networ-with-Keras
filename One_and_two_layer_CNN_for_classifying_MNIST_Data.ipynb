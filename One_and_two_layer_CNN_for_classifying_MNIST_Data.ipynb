{
  "nbformat": 4,
  "nbformat_minor": 0,
  "metadata": {
    "anaconda-cloud": {},
    "kernelspec": {
      "display_name": "Python 3",
      "language": "python",
      "name": "python3"
    },
    "language_info": {
      "codemirror_mode": {
        "name": "ipython",
        "version": 3
      },
      "file_extension": ".py",
      "mimetype": "text/x-python",
      "name": "python",
      "nbconvert_exporter": "python",
      "pygments_lexer": "ipython3",
      "version": "3.6.9"
    },
    "colab": {
      "name": "One-and-two-layer-CNN-for-classifying-MNIST-Data.ipynb",
      "provenance": []
    }
  },
  "cells": [
    {
      "cell_type": "markdown",
      "metadata": {
        "id": "Tr9VomlUZbcn"
      },
      "source": [
        "<h2>Introduction</h2>\n"
      ]
    },
    {
      "cell_type": "markdown",
      "metadata": {
        "id": "Bst0b7sdZbcp"
      },
      "source": [
        "In this section, we will use the famous [MNIST Dataset](http://yann.lecun.com/exdb/mnist?cm_mmc=Email_Newsletter-_-Developer_Ed%2BTech-_-WW_WW-_-SkillsNetwork-Courses-IBMDeveloperSkillsNetwork-DL0120EN-SkillsNetwork-20629446&cm_mmca1=000026UJ&cm_mmca2=10006555&cm_mmca3=M12345678&cvosrc=email.Newsletter.M12345678&cvo_campaign=000026UJ&cm_mmc=Email_Newsletter-_-Developer_Ed%2BTech-_-WW_WW-_-SkillsNetwork-Courses-IBMDeveloperSkillsNetwork-DL0120EN-SkillsNetwork-20629446&cm_mmca1=000026UJ&cm_mmca2=10006555&cm_mmca3=M12345678&cvosrc=email.Newsletter.M12345678&cvo_campaign=000026UJ) to build two Neural Networks capable to perform handwritten digits classification. The first Network is a simple Multi-layer Perceptron (MLP) and the second one is a Convolutional Neural Network (CNN from now on). In other words, when given an input our algorithm will say, with some associated error, what type of digit this input represents.\n"
      ]
    },
    {
      "cell_type": "markdown",
      "metadata": {
        "id": "li4rvLVcZbcq"
      },
      "source": [
        "* * *\n"
      ]
    },
    {
      "cell_type": "markdown",
      "metadata": {
        "id": "JeaxEFlyZbcr"
      },
      "source": [
        "<div class=\"alert alert-block alert-info\" style=\"margin-top: 20px\">\n",
        "<font size = 3><strong>Click on the links to go to the following sections:</strong></font>\n",
        "<br>\n",
        "<h2>Table of Contents</h2>\n",
        "<ol>\n",
        "    <li><a href=\"#ref1\">What is Deep Learning</a></li>\n",
        "    <li><a href=\"#ref2\">Simple test: Is TensorFlow working?</a></li>\n",
        "    <li><a href=\"#ref3\">1st part: classify MNIST using a simple model</a></li>\n",
        "    <li><a href=\"#ref4\">Evaluating the final result</a></li>\n",
        "    <li><a href=\"#ref5\">How to improve our model?</a></li>\n",
        "    <li><a href=\"#ref6\">2nd part: Deep Learning applied on MNIST</a></li>\n",
        "    <li><a href=\"#ref7\">Summary of the Deep Convolutional Neural Network</a></li>\n",
        "    <li><a href=\"#ref8\">Define functions and train the model</a></li>\n",
        "    <li><a href=\"#ref9\">Evaluate the model</a></li>\n",
        "</ol>    \n",
        "</div>\n"
      ]
    },
    {
      "cell_type": "markdown",
      "metadata": {
        "id": "okN5mDktZbcs"
      },
      "source": [
        "<hr>\n"
      ]
    },
    {
      "cell_type": "markdown",
      "metadata": {
        "id": "iwaQIBfYZbct"
      },
      "source": [
        "<a id=\"ref1\"></a>\n",
        "\n",
        "<h2>What is Deep Learning?</h2>\n"
      ]
    },
    {
      "cell_type": "markdown",
      "metadata": {
        "id": "kyOflGKkZbcu"
      },
      "source": [
        "<b>Brief Theory:</b> Deep learning (also known as deep structured learning, hierarchical learning or deep machine learning) is a branch of machine learning based on a set of algorithms that attempt to model high-level abstractions in data by using multiple processing layers, with complex structures or otherwise, composed of multiple non-linear transformations.\n"
      ]
    },
    {
      "cell_type": "markdown",
      "metadata": {
        "id": "EfkyzpDuZbcv"
      },
      "source": [
        "<b>In Practice, defining the term \"Deep\":</b> in this context, deep means that we are studying a Neural Network which has several hidden layers (more than one), no matter what type (convolutional, pooling, normalization, fully-connected etc). The most interesting part is that some papers noticed that Deep Neural Networks with the right architectures/hyper-parameters achieve better results than shallow Neural Networks with the same computational power (e.g. number of neurons or connections). \n"
      ]
    },
    {
      "cell_type": "markdown",
      "metadata": {
        "id": "e9rIT1w0Zbcw"
      },
      "source": [
        "<b>In Practice, defining \"Learning\":</b> In the context of supervised learning, digits recognition in our case, the learning part consists of a target/feature which is to be predicted using a given set of observations with the already known final prediction (label). In our case, the target will be the digit (0, 1, 2, 3, 4, 5, 6, 7, 8, 9) and the observations are the intensity and relative position of the pixels. After some training, it is possible to generate a \"function\" that map inputs (digit image) to desired outputs(type of digit). The only problem is how well this map operation occurs. While trying to generate this \"function\", the training process continues until the model achieves a desired level of accuracy on the training data.\n"
      ]
    },
    {
      "cell_type": "markdown",
      "metadata": {
        "id": "ItxD3Po9Zbcx"
      },
      "source": [
        "<hr>\n"
      ]
    },
    {
      "cell_type": "markdown",
      "metadata": {
        "id": "wzkpDVpJZbcx"
      },
      "source": [
        "<h2>Installing TensorFlow </h2>\n",
        "\n",
        "We begin by installing TensorFlow version 2.2.0 and its required prerequistes. \n"
      ]
    },
    {
      "cell_type": "code",
      "metadata": {
        "id": "XVKXPAW9Zbcy",
        "outputId": "07e1848a-0645-47fc-9c13-4a7576706e2d",
        "colab": {
          "base_uri": "https://localhost:8080/"
        }
      },
      "source": [
        "!pip install grpcio==1.24.3\n",
        "!pip install tensorflow==2.2.0"
      ],
      "execution_count": 1,
      "outputs": [
        {
          "output_type": "stream",
          "text": [
            "Collecting grpcio==1.24.3\n",
            "\u001b[?25l  Downloading https://files.pythonhosted.org/packages/30/54/c9810421e41ec0bca2228c6f06b1b1189b196b69533cbcac9f71b44727f8/grpcio-1.24.3-cp36-cp36m-manylinux2010_x86_64.whl (2.2MB)\n",
            "\u001b[K     |████████████████████████████████| 2.2MB 2.8MB/s \n",
            "\u001b[?25hRequirement already satisfied: six>=1.5.2 in /usr/local/lib/python3.6/dist-packages (from grpcio==1.24.3) (1.15.0)\n",
            "Installing collected packages: grpcio\n",
            "  Found existing installation: grpcio 1.33.2\n",
            "    Uninstalling grpcio-1.33.2:\n",
            "      Successfully uninstalled grpcio-1.33.2\n",
            "Successfully installed grpcio-1.24.3\n",
            "Collecting tensorflow==2.2.0\n",
            "\u001b[?25l  Downloading https://files.pythonhosted.org/packages/3d/be/679ce5254a8c8d07470efb4a4c00345fae91f766e64f1c2aece8796d7218/tensorflow-2.2.0-cp36-cp36m-manylinux2010_x86_64.whl (516.2MB)\n",
            "\u001b[K     |████████████████████████████████| 516.2MB 32kB/s \n",
            "\u001b[?25hRequirement already satisfied: google-pasta>=0.1.8 in /usr/local/lib/python3.6/dist-packages (from tensorflow==2.2.0) (0.2.0)\n",
            "Requirement already satisfied: wheel>=0.26; python_version >= \"3\" in /usr/local/lib/python3.6/dist-packages (from tensorflow==2.2.0) (0.35.1)\n",
            "Requirement already satisfied: absl-py>=0.7.0 in /usr/local/lib/python3.6/dist-packages (from tensorflow==2.2.0) (0.10.0)\n",
            "Requirement already satisfied: wrapt>=1.11.1 in /usr/local/lib/python3.6/dist-packages (from tensorflow==2.2.0) (1.12.1)\n",
            "Requirement already satisfied: protobuf>=3.8.0 in /usr/local/lib/python3.6/dist-packages (from tensorflow==2.2.0) (3.12.4)\n",
            "Requirement already satisfied: opt-einsum>=2.3.2 in /usr/local/lib/python3.6/dist-packages (from tensorflow==2.2.0) (3.3.0)\n",
            "Collecting tensorboard<2.3.0,>=2.2.0\n",
            "\u001b[?25l  Downloading https://files.pythonhosted.org/packages/1d/74/0a6fcb206dcc72a6da9a62dd81784bfdbff5fedb099982861dc2219014fb/tensorboard-2.2.2-py3-none-any.whl (3.0MB)\n",
            "\u001b[K     |████████████████████████████████| 3.0MB 46.6MB/s \n",
            "\u001b[?25hRequirement already satisfied: h5py<2.11.0,>=2.10.0 in /usr/local/lib/python3.6/dist-packages (from tensorflow==2.2.0) (2.10.0)\n",
            "Collecting tensorflow-estimator<2.3.0,>=2.2.0\n",
            "\u001b[?25l  Downloading https://files.pythonhosted.org/packages/a4/f5/926ae53d6a226ec0fda5208e0e581cffed895ccc89e36ba76a8e60895b78/tensorflow_estimator-2.2.0-py2.py3-none-any.whl (454kB)\n",
            "\u001b[K     |████████████████████████████████| 460kB 43.8MB/s \n",
            "\u001b[?25hRequirement already satisfied: grpcio>=1.8.6 in /usr/local/lib/python3.6/dist-packages (from tensorflow==2.2.0) (1.24.3)\n",
            "Requirement already satisfied: scipy==1.4.1; python_version >= \"3\" in /usr/local/lib/python3.6/dist-packages (from tensorflow==2.2.0) (1.4.1)\n",
            "Requirement already satisfied: numpy<2.0,>=1.16.0 in /usr/local/lib/python3.6/dist-packages (from tensorflow==2.2.0) (1.18.5)\n",
            "Requirement already satisfied: astunparse==1.6.3 in /usr/local/lib/python3.6/dist-packages (from tensorflow==2.2.0) (1.6.3)\n",
            "Requirement already satisfied: keras-preprocessing>=1.1.0 in /usr/local/lib/python3.6/dist-packages (from tensorflow==2.2.0) (1.1.2)\n",
            "Requirement already satisfied: termcolor>=1.1.0 in /usr/local/lib/python3.6/dist-packages (from tensorflow==2.2.0) (1.1.0)\n",
            "Requirement already satisfied: gast==0.3.3 in /usr/local/lib/python3.6/dist-packages (from tensorflow==2.2.0) (0.3.3)\n",
            "Requirement already satisfied: six>=1.12.0 in /usr/local/lib/python3.6/dist-packages (from tensorflow==2.2.0) (1.15.0)\n",
            "Requirement already satisfied: setuptools in /usr/local/lib/python3.6/dist-packages (from protobuf>=3.8.0->tensorflow==2.2.0) (50.3.2)\n",
            "Requirement already satisfied: google-auth<2,>=1.6.3 in /usr/local/lib/python3.6/dist-packages (from tensorboard<2.3.0,>=2.2.0->tensorflow==2.2.0) (1.17.2)\n",
            "Requirement already satisfied: google-auth-oauthlib<0.5,>=0.4.1 in /usr/local/lib/python3.6/dist-packages (from tensorboard<2.3.0,>=2.2.0->tensorflow==2.2.0) (0.4.2)\n",
            "Requirement already satisfied: markdown>=2.6.8 in /usr/local/lib/python3.6/dist-packages (from tensorboard<2.3.0,>=2.2.0->tensorflow==2.2.0) (3.3.3)\n",
            "Requirement already satisfied: requests<3,>=2.21.0 in /usr/local/lib/python3.6/dist-packages (from tensorboard<2.3.0,>=2.2.0->tensorflow==2.2.0) (2.23.0)\n",
            "Requirement already satisfied: tensorboard-plugin-wit>=1.6.0 in /usr/local/lib/python3.6/dist-packages (from tensorboard<2.3.0,>=2.2.0->tensorflow==2.2.0) (1.7.0)\n",
            "Requirement already satisfied: werkzeug>=0.11.15 in /usr/local/lib/python3.6/dist-packages (from tensorboard<2.3.0,>=2.2.0->tensorflow==2.2.0) (1.0.1)\n",
            "Requirement already satisfied: cachetools<5.0,>=2.0.0 in /usr/local/lib/python3.6/dist-packages (from google-auth<2,>=1.6.3->tensorboard<2.3.0,>=2.2.0->tensorflow==2.2.0) (4.1.1)\n",
            "Requirement already satisfied: rsa<5,>=3.1.4; python_version >= \"3\" in /usr/local/lib/python3.6/dist-packages (from google-auth<2,>=1.6.3->tensorboard<2.3.0,>=2.2.0->tensorflow==2.2.0) (4.6)\n",
            "Requirement already satisfied: pyasn1-modules>=0.2.1 in /usr/local/lib/python3.6/dist-packages (from google-auth<2,>=1.6.3->tensorboard<2.3.0,>=2.2.0->tensorflow==2.2.0) (0.2.8)\n",
            "Requirement already satisfied: requests-oauthlib>=0.7.0 in /usr/local/lib/python3.6/dist-packages (from google-auth-oauthlib<0.5,>=0.4.1->tensorboard<2.3.0,>=2.2.0->tensorflow==2.2.0) (1.3.0)\n",
            "Requirement already satisfied: importlib-metadata; python_version < \"3.8\" in /usr/local/lib/python3.6/dist-packages (from markdown>=2.6.8->tensorboard<2.3.0,>=2.2.0->tensorflow==2.2.0) (2.0.0)\n",
            "Requirement already satisfied: urllib3!=1.25.0,!=1.25.1,<1.26,>=1.21.1 in /usr/local/lib/python3.6/dist-packages (from requests<3,>=2.21.0->tensorboard<2.3.0,>=2.2.0->tensorflow==2.2.0) (1.24.3)\n",
            "Requirement already satisfied: certifi>=2017.4.17 in /usr/local/lib/python3.6/dist-packages (from requests<3,>=2.21.0->tensorboard<2.3.0,>=2.2.0->tensorflow==2.2.0) (2020.6.20)\n",
            "Requirement already satisfied: idna<3,>=2.5 in /usr/local/lib/python3.6/dist-packages (from requests<3,>=2.21.0->tensorboard<2.3.0,>=2.2.0->tensorflow==2.2.0) (2.10)\n",
            "Requirement already satisfied: chardet<4,>=3.0.2 in /usr/local/lib/python3.6/dist-packages (from requests<3,>=2.21.0->tensorboard<2.3.0,>=2.2.0->tensorflow==2.2.0) (3.0.4)\n",
            "Requirement already satisfied: pyasn1>=0.1.3 in /usr/local/lib/python3.6/dist-packages (from rsa<5,>=3.1.4; python_version >= \"3\"->google-auth<2,>=1.6.3->tensorboard<2.3.0,>=2.2.0->tensorflow==2.2.0) (0.4.8)\n",
            "Requirement already satisfied: oauthlib>=3.0.0 in /usr/local/lib/python3.6/dist-packages (from requests-oauthlib>=0.7.0->google-auth-oauthlib<0.5,>=0.4.1->tensorboard<2.3.0,>=2.2.0->tensorflow==2.2.0) (3.1.0)\n",
            "Requirement already satisfied: zipp>=0.5 in /usr/local/lib/python3.6/dist-packages (from importlib-metadata; python_version < \"3.8\"->markdown>=2.6.8->tensorboard<2.3.0,>=2.2.0->tensorflow==2.2.0) (3.4.0)\n",
            "Installing collected packages: tensorboard, tensorflow-estimator, tensorflow\n",
            "  Found existing installation: tensorboard 2.3.0\n",
            "    Uninstalling tensorboard-2.3.0:\n",
            "      Successfully uninstalled tensorboard-2.3.0\n",
            "  Found existing installation: tensorflow-estimator 2.3.0\n",
            "    Uninstalling tensorflow-estimator-2.3.0:\n",
            "      Successfully uninstalled tensorflow-estimator-2.3.0\n",
            "  Found existing installation: tensorflow 2.3.0\n",
            "    Uninstalling tensorflow-2.3.0:\n",
            "      Successfully uninstalled tensorflow-2.3.0\n",
            "Successfully installed tensorboard-2.2.2 tensorflow-2.2.0 tensorflow-estimator-2.2.0\n"
          ],
          "name": "stdout"
        }
      ]
    },
    {
      "cell_type": "code",
      "metadata": {
        "id": "SFZ6cgNWZbc4"
      },
      "source": [
        "import tensorflow as tf\n",
        "from IPython.display import Markdown, display\n",
        "\n",
        "def printmd(string):\n",
        "    display(Markdown('# <span style=\"color:red\">'+string+'</span>'))\n",
        "\n",
        "\n",
        "if not tf.__version__ == '2.2.0':\n",
        "    printmd('<<<<<!!!!! ERROR !!!! please upgrade to TensorFlow 2.2.0, or restart your Kernel (Kernel->Restart & Clear Output)>>>>>')"
      ],
      "execution_count": 2,
      "outputs": []
    },
    {
      "cell_type": "markdown",
      "metadata": {
        "id": "MWZLCMNsZbc8"
      },
      "source": [
        "In this tutorial, we first classify MNIST using a simple Multi-layer perceptron and then, in the second part, we use deeplearning to improve the accuracy of our results.\n",
        "\n",
        "<a id=\"ref3\"></a>\n",
        "\n",
        "<h2>1st part: classify MNIST using a simple model.</h2>\n"
      ]
    },
    {
      "cell_type": "markdown",
      "metadata": {
        "id": "fQ6SYgVIZbc9"
      },
      "source": [
        "We are going to create a simple Multi-layer perceptron, a simple type of Neural Network, to perform classification tasks on the MNIST digits dataset. If you are not familiar with the MNIST dataset, please consider to read more about it: <a href=\"http://yann.lecun.com/exdb/mnist/\">click here</a> \n"
      ]
    },
    {
      "cell_type": "markdown",
      "metadata": {
        "id": "Bp2t6_kKZbc-"
      },
      "source": [
        "<h3>What is MNIST?</h3>\n"
      ]
    },
    {
      "cell_type": "markdown",
      "metadata": {
        "id": "X6yP_MTaZbc_"
      },
      "source": [
        "According to LeCun's website, the MNIST is a: \"database of handwritten digits that has a training set of 60,000 examples, and a test set of 10,000 examples. It is a subset of a larger set available from NIST. The digits have been size-normalized and centered in a fixed-size image\".\n"
      ]
    },
    {
      "cell_type": "markdown",
      "metadata": {
        "id": "Yg8eqzcXZbc_"
      },
      "source": [
        "<h3>Import the MNIST dataset using TensorFlow built-in feature</h3>\n"
      ]
    },
    {
      "cell_type": "markdown",
      "metadata": {
        "id": "hJHw_2ncZbdA"
      },
      "source": [
        "It's very important to notice that MNIST is a high optimized data-set and it does not contain images. You will need to build your own code if you want to see the real digits. Another important side note is the effort that the authors invested on this data-set with normalization and centering operations.  \n"
      ]
    },
    {
      "cell_type": "code",
      "metadata": {
        "id": "UUQmUhkmZbdB",
        "outputId": "7a2078af-6c68-4bfd-d652-14e9423bc79e",
        "colab": {
          "base_uri": "https://localhost:8080/"
        }
      },
      "source": [
        "mnist = tf.keras.datasets.mnist\n",
        "(x_train, y_train), (x_test, y_test) = mnist.load_data()"
      ],
      "execution_count": 3,
      "outputs": [
        {
          "output_type": "stream",
          "text": [
            "Downloading data from https://storage.googleapis.com/tensorflow/tf-keras-datasets/mnist.npz\n",
            "11493376/11490434 [==============================] - 0s 0us/step\n"
          ],
          "name": "stdout"
        }
      ]
    },
    {
      "cell_type": "markdown",
      "metadata": {
        "id": "vAE3usRDZbdF"
      },
      "source": [
        "The features data are between 0 and 255, and we will normalize this to improve optimization performance.\n"
      ]
    },
    {
      "cell_type": "code",
      "metadata": {
        "id": "X-yabaBiZbdG"
      },
      "source": [
        "x_train, x_test = x_train / 255.0, x_test / 255.0"
      ],
      "execution_count": 4,
      "outputs": []
    },
    {
      "cell_type": "markdown",
      "metadata": {
        "id": "q55aPafOZbdL"
      },
      "source": [
        "Let's take a look at the first few label values: \n"
      ]
    },
    {
      "cell_type": "code",
      "metadata": {
        "id": "_XhL2ZZkZbdM",
        "outputId": "eb1cc571-8601-45c7-869c-f205956b9388",
        "colab": {
          "base_uri": "https://localhost:8080/"
        }
      },
      "source": [
        "print(y_train[0:5])"
      ],
      "execution_count": 5,
      "outputs": [
        {
          "output_type": "stream",
          "text": [
            "[5 0 4 1 9]\n"
          ],
          "name": "stdout"
        }
      ]
    },
    {
      "cell_type": "markdown",
      "metadata": {
        "id": "OOf5lJglZbdR"
      },
      "source": [
        "The current label scheme simply identifies the category to which each data point belongs (each handwritten digit is assigned a category equal to the number value).  We need to convert this into a one-hot encoded vector.  In contrast to Binary representation, the labels will be presented in a way that to represent a number N, the $N^{th}$ bit is 1 while the the other bits are 0. For example, five and zero in a binary code would be:\n"
      ]
    },
    {
      "cell_type": "markdown",
      "metadata": {
        "id": "X7AWzDPlZbdR"
      },
      "source": [
        "<pre>\n",
        "Number representation:    0\n",
        "Binary encoding:        [2^5]  [2^4]   [2^3]   [2^2]   [2^1]   [2^0]  \n",
        "Array/vector:             0      0       0       0       0       0 \n",
        "\n",
        "Number representation:    5\n",
        "Binary encoding:        [2^5]  [2^4]   [2^3]   [2^2]   [2^1]   [2^0]  \n",
        "Array/vector:             0      0       0       1       0       1  \n",
        "</pre>\n"
      ]
    },
    {
      "cell_type": "markdown",
      "metadata": {
        "id": "Ghjfrs1-ZbdS"
      },
      "source": [
        "Using a different notation, the same digits using one-hot vector representation can be show as: \n"
      ]
    },
    {
      "cell_type": "markdown",
      "metadata": {
        "id": "SC0tEnlXZbdT"
      },
      "source": [
        "<pre>\n",
        "Number representation:    0\n",
        "One-hot encoding:        [5]   [4]    [3]    [2]    [1]   [0]  \n",
        "Array/vector:             0     0      0      0      0     1   \n",
        "\n",
        "Number representation:    5\n",
        "One-hot encoding:        [5]   [4]    [3]    [2]    [1]    [0]  \n",
        "Array/vector:             1     0      0      0      0      0   \n",
        "</pre>\n"
      ]
    },
    {
      "cell_type": "markdown",
      "metadata": {
        "id": "u2Go9fdZZbdT"
      },
      "source": [
        "This is a standard operation, and is shown below.\n"
      ]
    },
    {
      "cell_type": "code",
      "metadata": {
        "id": "H3krNtuIZbdU",
        "outputId": "153ddb71-ff17-4422-c3ca-e4da0ebf1468",
        "colab": {
          "base_uri": "https://localhost:8080/"
        }
      },
      "source": [
        "print(\"categorical labels\")\n",
        "print(y_train[0:5])\n",
        "\n",
        "# make labels one hot encoded\n",
        "y_train = tf.one_hot(y_train, 10)\n",
        "y_test = tf.one_hot(y_test, 10)\n",
        "\n",
        "print(\"one hot encoded labels\")\n",
        "print(y_train[0:5])"
      ],
      "execution_count": 6,
      "outputs": [
        {
          "output_type": "stream",
          "text": [
            "categorical labels\n",
            "[5 0 4 1 9]\n",
            "one hot encoded labels\n",
            "tf.Tensor(\n",
            "[[0. 0. 0. 0. 0. 1. 0. 0. 0. 0.]\n",
            " [1. 0. 0. 0. 0. 0. 0. 0. 0. 0.]\n",
            " [0. 0. 0. 0. 1. 0. 0. 0. 0. 0.]\n",
            " [0. 1. 0. 0. 0. 0. 0. 0. 0. 0.]\n",
            " [0. 0. 0. 0. 0. 0. 0. 0. 0. 1.]], shape=(5, 10), dtype=float32)\n"
          ],
          "name": "stdout"
        }
      ]
    },
    {
      "cell_type": "markdown",
      "metadata": {
        "id": "Ucc-9uXkZbdY"
      },
      "source": [
        "<h3>Understanding the imported data</h3>\n"
      ]
    },
    {
      "cell_type": "markdown",
      "metadata": {
        "id": "Rf9rbRnTZbdZ"
      },
      "source": [
        "The imported data can be divided as follows:\n",
        "\n",
        "-   Training >>  Use the given dataset with inputs and related outputs for training of NN. In our case, if you give an image that you know that represents a \"nine\", this set will tell the neural network that we expect a \"nine\" as the output.  \n",
        "    ```\n",
        "      - 60,000 data points\n",
        "      - x_train for inputs\n",
        "      - y_train for outputs/labels\n",
        "    ```\n",
        "-   Test >> The model does not have access to this information prior to the testing phase. It is used to evaluate the performance and accuracy of the model against \"real life situations\". No further optimization beyond this point.  \n",
        "    ```\n",
        "      - 10,000 data points\n",
        "      - x_test for inputs\n",
        "      - y_test for outputs/labels\n",
        "    ```\n",
        "-   Validation data is not used in this example.\n"
      ]
    },
    {
      "cell_type": "code",
      "metadata": {
        "id": "OF47WH_aZbdZ",
        "outputId": "574ee4ae-adcd-43f7-e5a4-398aa52b5d26",
        "colab": {
          "base_uri": "https://localhost:8080/"
        }
      },
      "source": [
        "print(\"number of training examples:\" , x_train.shape[0])\n",
        "print(\"number of test examples:\" , x_test.shape[0])"
      ],
      "execution_count": 7,
      "outputs": [
        {
          "output_type": "stream",
          "text": [
            "number of training examples: 60000\n",
            "number of test examples: 10000\n"
          ],
          "name": "stdout"
        }
      ]
    },
    {
      "cell_type": "markdown",
      "metadata": {
        "id": "RALWeURWZbdd"
      },
      "source": [
        "The new Dataset API in TensorFlow 2.X allows you to define batch sizes as part of the dataset.  It also has improved I/O characteristics, and is the recommended way of loading data.  This allows you to iterate through  subsets (batches) of the data during training.  This is a common practice that improves performance by computing gradients over smaller batches.  We will see this in action during the training step.  \n",
        "\n",
        "Additionally, you can shuffle the dataset if you believe that there is a skewed distribution of data in the original dataset that may result in batches with different distributions.  We aren't shuffling data here.\n"
      ]
    },
    {
      "cell_type": "code",
      "metadata": {
        "id": "lkOOQ9asZbde"
      },
      "source": [
        "train_ds = tf.data.Dataset.from_tensor_slices((x_train, y_train)).batch(50)\n",
        "test_ds = tf.data.Dataset.from_tensor_slices((x_test, y_test)).batch(50)"
      ],
      "execution_count": 8,
      "outputs": []
    },
    {
      "cell_type": "markdown",
      "metadata": {
        "id": "5w9JuFYPZbdh"
      },
      "source": [
        "<h3>Converting a 2D Image into a 1D Vector</h3>\n"
      ]
    },
    {
      "cell_type": "markdown",
      "metadata": {
        "id": "v3WpJxCEZbdi"
      },
      "source": [
        "MNIST images are black and white thumbnail square images with 28x28 pixels.  Each pixel is assigned an intensity (originally on a scale of 0 to 255).  To make the input useful to us, we need these to be arranged in a 1D vector using a consistent strategy, as is shown in the figure below.  We can use `Flatten` to accomplish this task.\n"
      ]
    },
    {
      "cell_type": "code",
      "metadata": {
        "id": "pSR6DdooZbdj",
        "outputId": "8f560603-241e-4e1e-d2e9-5f35fb092ffa",
        "colab": {
          "base_uri": "https://localhost:8080/"
        }
      },
      "source": [
        "# showing an example of the Flatten class and operation\n",
        "from tensorflow.keras.layers import Flatten\n",
        "flatten = Flatten(dtype='float32')\n",
        "\n",
        "\"original data shape\"\n",
        "print(x_train.shape)\n",
        "\n",
        "\"flattened shape\"\n",
        "print(flatten(x_train).shape)"
      ],
      "execution_count": 9,
      "outputs": [
        {
          "output_type": "stream",
          "text": [
            "(60000, 28, 28)\n",
            "(60000, 784)\n"
          ],
          "name": "stdout"
        }
      ]
    },
    {
      "cell_type": "markdown",
      "metadata": {
        "id": "xBR-pG5bZbdo"
      },
      "source": [
        "\n",
        "\n",
        "<div style=\"text-align:center\">Illustration of the Flatten operation </div>\n"
      ]
    },
    {
      "cell_type": "markdown",
      "metadata": {
        "id": "NCoHJmztZbdp"
      },
      "source": [
        "<h3>Assigning bias and weights to null tensors</h3>\n"
      ]
    },
    {
      "cell_type": "markdown",
      "metadata": {
        "id": "y0uEMKIHZbdp"
      },
      "source": [
        "Now we are going to create the weights and biases, for this purpose they will be used as arrays filled with zeros. The values that we choose here can be critical, but we'll cover a better way on the second part, instead of this type of initialization.\n",
        "Since these values will be adjusted during the optimization process, we define them using  `tf.Variable`.\n",
        "\n",
        "NOTE:  `tf.Variable` creates adjustable variables that are in the global namespace, so any function that references these variables need not pass the varibles.  But they are globals, so exercise caution when naming!\n"
      ]
    },
    {
      "cell_type": "code",
      "metadata": {
        "id": "XGoSgWdPZbdq"
      },
      "source": [
        "# Weight tensor\n",
        "W = tf.Variable(tf.zeros([784, 10], tf.float32))\n",
        "# Bias tensor\n",
        "b = tf.Variable(tf.zeros([10], tf.float32))"
      ],
      "execution_count": 10,
      "outputs": []
    },
    {
      "cell_type": "markdown",
      "metadata": {
        "id": "XsS8eJb-Zbdw"
      },
      "source": [
        "<h3>Adding Weights and Biases to input</h3>\n"
      ]
    },
    {
      "cell_type": "markdown",
      "metadata": {
        "id": "Pf-Qx33PZbdx"
      },
      "source": [
        "The only difference for our next operation to the picture below is that we are using the mathematical convention for what is being executed in the illustration. The tf.matmul operation performs a matrix multiplication between x (inputs) and W (weights) and after the code add biases.\n"
      ]
    },
    {
      "cell_type": "code",
      "metadata": {
        "id": "XFJFOIiZZbdx"
      },
      "source": [
        "def forward(x):\n",
        "    return tf.matmul(x,W) + b"
      ],
      "execution_count": 11,
      "outputs": []
    },
    {
      "cell_type": "markdown",
      "metadata": {
        "id": "8hmsHuq9Zbd1"
      },
      "source": [
        "<h3>Softmax Regression</h3>\n"
      ]
    },
    {
      "cell_type": "markdown",
      "metadata": {
        "id": "MXXn06bPZbd1"
      },
      "source": [
        "Softmax is an activation function that is normally used in classification problems. It generates the probabilities for the output. For example, our model will not be 100% sure that one digit is the number nine, instead, the answer will be a distribution of probabilities where, if the model is right, the nine number will have a larger probability than the other other digits.\n",
        "\n",
        "For comparison, below is the one-hot vector for a nine digit label:\n"
      ]
    },
    {
      "cell_type": "markdown",
      "metadata": {
        "id": "BlfztHVCZbd3"
      },
      "source": [
        "0 --> 0  \n",
        "1 --> 0 \n",
        "2 --> 0\n",
        "3 --> 0\n",
        "4 --> 0\n",
        "5 --> 0\n",
        "6 --> 0\n",
        "7 --> 0\n",
        "8 --> 0\n",
        "9 --> 1"
      ]
    },
    {
      "cell_type": "markdown",
      "metadata": {
        "id": "Zj-nZKa2Zbd3"
      },
      "source": [
        "A machine does not have all this certainty, so we want to know what is the best guess, but we also want to understand how sure it was and what was the second better option. Below is an example of a hypothetical distribution for a nine digit:\n"
      ]
    },
    {
      "cell_type": "markdown",
      "metadata": {
        "id": "0SWxsNH4Zbd4"
      },
      "source": [
        "0 -->0.01  \n",
        "1 -->0.02  \n",
        "2 -->0.03  \n",
        "3 -->0.02  \n",
        "4 -->0.12  \n",
        "5 -->0.01  \n",
        "6 -->0.03\n",
        "7 -->0.06\n",
        "8 -->0.1\n",
        "9 -->0.6  "
      ]
    },
    {
      "cell_type": "markdown",
      "metadata": {
        "id": "1Y6BATZZZbd5"
      },
      "source": [
        "Softmax is simply an exponential of each value of a vector that is also normalized.  The formula is:\n",
        "\n",
        "$$\\\\sigma(z_i) = \\\\frac{e^{z_i}}{\\\\sum{e^{z_i}}}$$\n"
      ]
    },
    {
      "cell_type": "code",
      "metadata": {
        "id": "-gTQ8s5AZbd5",
        "outputId": "b0911748-20fa-417a-9777-93f433bc1860",
        "colab": {
          "base_uri": "https://localhost:8080/"
        }
      },
      "source": [
        "# a sample softmax calculation on an input vector\n",
        "vector = [10, 0.2, 8]\n",
        "softmax = tf.nn.softmax(vector)\n",
        "print(\"softmax calculation\")\n",
        "print(softmax.numpy())\n",
        "print(\"verifying normalization\")\n",
        "print(tf.reduce_sum(softmax))\n",
        "print(\"finding vector with largest value (label assignment)\")\n",
        "print(\"category\", tf.argmax(softmax).numpy())"
      ],
      "execution_count": 12,
      "outputs": [
        {
          "output_type": "stream",
          "text": [
            "softmax calculation\n",
            "[8.8075405e-01 4.8839214e-05 1.1919710e-01]\n",
            "verifying normalization\n",
            "tf.Tensor(1.0, shape=(), dtype=float32)\n",
            "finding vector with largest value (label assignment)\n",
            "category 0\n"
          ],
          "name": "stdout"
        }
      ]
    },
    {
      "cell_type": "markdown",
      "metadata": {
        "id": "_qB3J3zwZbd9"
      },
      "source": [
        "Now we can define our output layer\n"
      ]
    },
    {
      "cell_type": "code",
      "metadata": {
        "id": "_MPSfKEAZbd9"
      },
      "source": [
        "def activate(x):\n",
        "    return tf.nn.softmax(forward(x))"
      ],
      "execution_count": 13,
      "outputs": []
    },
    {
      "cell_type": "markdown",
      "metadata": {
        "id": "Ry4_nx03ZbeB"
      },
      "source": [
        "Logistic function output is used for the classification between two target classes 0/1. Softmax function is generalized type of logistic function. That is, Softmax can output a multiclass categorical probability distribution. \n"
      ]
    },
    {
      "cell_type": "markdown",
      "metadata": {
        "id": "Zd6XfwJqZbeB"
      },
      "source": [
        "Let's create a `model` function for convenience.\n"
      ]
    },
    {
      "cell_type": "code",
      "metadata": {
        "id": "8uXorBmeZbeC"
      },
      "source": [
        "def model(x):\n",
        "    x = flatten(x)\n",
        "    return activate(x)"
      ],
      "execution_count": 14,
      "outputs": []
    },
    {
      "cell_type": "markdown",
      "metadata": {
        "id": "pyz79drQZbeF"
      },
      "source": [
        "<h3>Cost function</h3>\n"
      ]
    },
    {
      "cell_type": "markdown",
      "metadata": {
        "id": "DjZMd3JGZbeG"
      },
      "source": [
        "It is a function that is used to minimize the difference between the right answers (labels) and estimated outputs by our Network. Here we use the cross entropy function, which is a popular cost function used for categorical models.  The function is defined in terms of probabilities, which is why we must used normalized vectors.  It is given as:\n",
        "\n",
        "$$ CrossEntropy = \\\\sum{y_{Label}\\\\cdot \\\\log(y_{Prediction})}$$\n"
      ]
    },
    {
      "cell_type": "code",
      "metadata": {
        "id": "T52kmlZoZbeG",
        "outputId": "f99abc63-a40f-4e7b-a07d-c4bcbbe74dc6",
        "colab": {
          "base_uri": "https://localhost:8080/"
        }
      },
      "source": [
        "def cross_entropy(y_label, y_pred):\n",
        "    return (-tf.reduce_sum(y_label * tf.math.log(y_pred + 1.e-10)))\n",
        "# addition of 1e-10 to prevent errors in zero calculations\n",
        "\n",
        "# current loss function for unoptimized model\n",
        "cross_entropy(y_train, model(x_train)).numpy()"
      ],
      "execution_count": 15,
      "outputs": [
        {
          "output_type": "execute_result",
          "data": {
            "text/plain": [
              "138155.0"
            ]
          },
          "metadata": {
            "tags": []
          },
          "execution_count": 15
        }
      ]
    },
    {
      "cell_type": "markdown",
      "metadata": {
        "id": "VKbhf9lZZbeK"
      },
      "source": [
        "<h3>Type of optimization: Gradient Descent</h3>\n"
      ]
    },
    {
      "cell_type": "markdown",
      "metadata": {
        "id": "bKzfTQxTZbeK"
      },
      "source": [
        "This is the part where you configure the optimizer for your Neural Network. There are several optimizers available, in our case we will use Gradient Descent because it is a well established optimizer.\n"
      ]
    },
    {
      "cell_type": "code",
      "metadata": {
        "id": "AYCwaCkSZbeL"
      },
      "source": [
        "optimizer = tf.keras.optimizers.SGD(learning_rate=0.25)"
      ],
      "execution_count": 16,
      "outputs": []
    },
    {
      "cell_type": "markdown",
      "metadata": {
        "id": "iqFos_agZbeQ"
      },
      "source": [
        "Now we define the training step.  This step uses `GradientTape` to automatically compute deriviatives of the functions we have manually created and applies them using the `SGD` optimizer. \n"
      ]
    },
    {
      "cell_type": "code",
      "metadata": {
        "id": "962rXVzqZbeR"
      },
      "source": [
        "def train_step(x, y ):\n",
        "    with tf.GradientTape() as tape:\n",
        "        #compute loss function\n",
        "        current_loss = cross_entropy( y, model(x))\n",
        "        # compute gradient of loss \n",
        "        #(This is automatic! Even with specialized funcctions!)\n",
        "        grads = tape.gradient( current_loss , [W,b] )\n",
        "        # Apply SGD step to our Variables W and b\n",
        "        optimizer.apply_gradients( zip( grads , [W,b] ) )     \n",
        "    return current_loss.numpy()"
      ],
      "execution_count": 17,
      "outputs": []
    },
    {
      "cell_type": "markdown",
      "metadata": {
        "id": "xF7yCmIWZbeV"
      },
      "source": [
        "<h3>Training batches</h3>\n"
      ]
    },
    {
      "cell_type": "markdown",
      "metadata": {
        "id": "3aV97GoXZbeW"
      },
      "source": [
        "Train using minibatch Gradient Descent.\n",
        "\n",
        "In practice, Batch Gradient Descent is not often used because is too computationally expensive. The good part about this method is that you have the true gradient, but with the expensive computing task of using the whole dataset in one time. Due to this problem, Neural Networks usually use minibatch to train.\n",
        "\n",
        "We have already divided our full dataset into batches of 50 each using the Datasets API.  Now we can iterate through each of those batches to compute a gradient.  Once we iterate through all of the batches in the dataset, we complete an **epoch**, or a full traversal of the dataset.\n"
      ]
    },
    {
      "cell_type": "code",
      "metadata": {
        "id": "5UHiYcBtZbeW",
        "outputId": "a6dd3c54-48e8-4974-c08a-c3b741fe7d76",
        "colab": {
          "base_uri": "https://localhost:8080/"
        }
      },
      "source": [
        "# zeroing out weights in case you want to run this cell multiple times\n",
        "# Weight tensor\n",
        "W = tf.Variable(tf.zeros([784, 10],tf.float32))\n",
        "# Bias tensor\n",
        "b = tf.Variable(tf.zeros([10],tf.float32))\n",
        "\n",
        "loss_values=[]\n",
        "accuracies = []\n",
        "epochs = 10\n",
        "\n",
        "for i in range(epochs):\n",
        "    j=0\n",
        "    # each batch has 50 examples\n",
        "    for x_train_batch, y_train_batch in train_ds:\n",
        "        j+=1\n",
        "        current_loss = train_step(x_train_batch, y_train_batch)\n",
        "        if j%500==0: #reporting intermittent batch statistics\n",
        "            print(\"epoch \", str(i), \"batch\", str(j), \"loss:\", str(current_loss) ) \n",
        "    \n",
        "    # collecting statistics at each epoch...loss function and accuracy\n",
        "    #  loss function\n",
        "    current_loss = cross_entropy( y_train, model( x_train )).numpy()\n",
        "    loss_values.append(current_loss)\n",
        "    correct_prediction = tf.equal(tf.argmax(model(x_train), axis=1),\n",
        "                                  tf.argmax(y_train, axis=1))\n",
        "    #  accuracy\n",
        "    accuracy = tf.reduce_mean(tf.cast(correct_prediction, tf.float32)).numpy()\n",
        "    accuracies.append(accuracy)\n",
        "    print(\"end of epoch \", str(i), \"loss\", str(current_loss), \"accuracy\", str(accuracy) ) \n"
      ],
      "execution_count": 18,
      "outputs": [
        {
          "output_type": "stream",
          "text": [
            "epoch  0 batch 500 loss: 177.26141\n",
            "epoch  0 batch 1000 loss: 174.39491\n",
            "end of epoch  0 loss 223471.0 accuracy 0.8147\n",
            "epoch  1 batch 500 loss: 153.2364\n",
            "epoch  1 batch 1000 loss: 178.1075\n",
            "end of epoch  1 loss 216641.61 accuracy 0.824\n",
            "epoch  2 batch 500 loss: 209.28334\n",
            "epoch  2 batch 1000 loss: 172.85431\n",
            "end of epoch  2 loss 207265.33 accuracy 0.83315\n",
            "epoch  3 batch 500 loss: 203.7942\n",
            "epoch  3 batch 1000 loss: 152.35666\n",
            "end of epoch  3 loss 210062.88 accuracy 0.8303\n",
            "epoch  4 batch 500 loss: 189.21526\n",
            "epoch  4 batch 1000 loss: 163.97006\n",
            "end of epoch  4 loss 211364.31 accuracy 0.82985\n",
            "epoch  5 batch 500 loss: 215.90894\n",
            "epoch  5 batch 1000 loss: 175.0403\n",
            "end of epoch  5 loss 202569.7 accuracy 0.83845\n",
            "epoch  6 batch 500 loss: 200.97389\n",
            "epoch  6 batch 1000 loss: 167.53844\n",
            "end of epoch  6 loss 207683.56 accuracy 0.83435\n",
            "epoch  7 batch 500 loss: 200.98653\n",
            "epoch  7 batch 1000 loss: 185.46494\n",
            "end of epoch  7 loss 200680.2 accuracy 0.8413333\n",
            "epoch  8 batch 500 loss: 213.95403\n",
            "epoch  8 batch 1000 loss: 172.93088\n",
            "end of epoch  8 loss 205809.36 accuracy 0.8361\n",
            "epoch  9 batch 500 loss: 208.41548\n",
            "epoch  9 batch 1000 loss: 165.63356\n",
            "end of epoch  9 loss 199166.22 accuracy 0.84305\n"
          ],
          "name": "stdout"
        }
      ]
    },
    {
      "cell_type": "markdown",
      "metadata": {
        "id": "EMJc-ARwZbea"
      },
      "source": [
        "<h3>Test and Plots</h3>\n"
      ]
    },
    {
      "cell_type": "markdown",
      "metadata": {
        "id": "AyHWGOexZbeb"
      },
      "source": [
        "It is common to run intermittent diagnostics (such as accuracy and loss over entire dataset) during training.  Here we compute a summary statistic on the test dataset as well.  Fitness metrics for the training data should closely match those of the test data.  If the test metrics are distinctly less favorable, this can be a sign of overfitting.\n"
      ]
    },
    {
      "cell_type": "code",
      "metadata": {
        "id": "0k5zj-whZbec",
        "outputId": "6ac09bd9-7c6d-40aa-e55b-6f4da38669bd",
        "colab": {
          "base_uri": "https://localhost:8080/"
        }
      },
      "source": [
        "correct_prediction_train = tf.equal(tf.argmax(model(x_train), axis=1),tf.argmax(y_train,axis=1))\n",
        "accuracy_train = tf.reduce_mean(tf.cast(correct_prediction_train, tf.float32)).numpy()\n",
        "\n",
        "correct_prediction_test = tf.equal(tf.argmax(model(x_test), axis=1),tf.argmax(y_test, axis=1))\n",
        "accuracy_test = tf.reduce_mean(tf.cast(correct_prediction_test, tf.float32)).numpy()\n",
        "\n",
        "print(\"training accuracy\", accuracy_train)\n",
        "print(\"test accuracy\", accuracy_test)"
      ],
      "execution_count": 20,
      "outputs": [
        {
          "output_type": "stream",
          "text": [
            "training accuracy 0.84305\n",
            "test accuracy 0.8355\n"
          ],
          "name": "stdout"
        }
      ]
    },
    {
      "cell_type": "markdown",
      "metadata": {
        "id": "CzcJouyFZbef"
      },
      "source": [
        "<hr>\n"
      ]
    },
    {
      "cell_type": "markdown",
      "metadata": {
        "id": "5OKkjsXTZbef"
      },
      "source": [
        "The next two plots show the performance of the optimization at each epoch.\n"
      ]
    },
    {
      "cell_type": "code",
      "metadata": {
        "id": "IoTLztTZZbeg",
        "outputId": "e98089ed-ad2e-41b7-d654-37a374566f1e",
        "colab": {
          "base_uri": "https://localhost:8080/",
          "height": 422
        }
      },
      "source": [
        "import matplotlib.pyplot as plt\n",
        "%matplotlib inline\n",
        "plt.rcParams['figure.figsize'] = (10, 6)\n",
        "#print(loss_values)\n",
        "plt.plot(loss_values,'-ro')\n",
        "plt.title(\"loss per epoch\")\n",
        "plt.xlabel(\"epoch\")\n",
        "plt.ylabel(\"loss\")"
      ],
      "execution_count": 21,
      "outputs": [
        {
          "output_type": "execute_result",
          "data": {
            "text/plain": [
              "Text(0, 0.5, 'loss')"
            ]
          },
          "metadata": {
            "tags": []
          },
          "execution_count": 21
        },
        {
          "output_type": "display_data",
          "data": {
            "image/png": "[encoded data removed]",
            "text/plain": [
              "<Figure size 720x432 with 1 Axes>"
            ]
          },
          "metadata": {
            "tags": [],
            "needs_background": "light"
          }
        }
      ]
    },
    {
      "cell_type": "code",
      "metadata": {
        "id": "rLEHOG-SZbej",
        "outputId": "b4d6c67b-5783-44f8-f0f6-a5a764725446",
        "colab": {
          "base_uri": "https://localhost:8080/",
          "height": 422
        }
      },
      "source": [
        "plt.plot(accuracies,'-ro')\n",
        "plt.title(\"accuracy per epoch\")\n",
        "plt.xlabel(\"epoch\")\n",
        "plt.ylabel(\"accuracy\")"
      ],
      "execution_count": 22,
      "outputs": [
        {
          "output_type": "execute_result",
          "data": {
            "text/plain": [
              "Text(0, 0.5, 'accuracy')"
            ]
          },
          "metadata": {
            "tags": []
          },
          "execution_count": 22
        },
        {
          "output_type": "display_data",
          "data": {
            "image/png": "[encoded data removed]",
            "text/plain": [
              "<Figure size 720x432 with 1 Axes>"
            ]
          },
          "metadata": {
            "tags": [],
            "needs_background": "light"
          }
        }
      ]
    },
    {
      "cell_type": "markdown",
      "metadata": {
        "id": "myclB3rpZben"
      },
      "source": [
        "<a id=\"ref4\"></a>\n",
        "\n",
        "<h2>Evaluating the final result</h2>\n"
      ]
    },
    {
      "cell_type": "markdown",
      "metadata": {
        "id": "2Uzt1PAgZbeo"
      },
      "source": [
        "84% accuracy is not bad considering the simplicity of the model, but >90% accuracy has been achieved in the past.  \n"
      ]
    },
    {
      "cell_type": "markdown",
      "metadata": {
        "id": "-r0WAEf9Zbep"
      },
      "source": [
        "<a id=\"ref5\"></a>\n",
        "\n",
        "<h2>How to improve our model?</h2>\n"
      ]
    },
    {
      "cell_type": "markdown",
      "metadata": {
        "id": "2RTQdoe7Zbep"
      },
      "source": [
        "<h4>Several options as follow:</h4>\n",
        "<ul>\n",
        "    <li>Regularization of Neural Networks using DropConnect</li>\n",
        "    <li>Multi-column Deep Neural Networks for Image Classification</li> \n",
        "    <li>APAC: Augmented Pattern Classification with Neural Networks</li>\n",
        "    <li>Simple Deep Neural Network with Dropout</li>\n",
        "</ul>\n",
        "<h4>In the next part we are going to explore the option:</h4>\n",
        "<ul>\n",
        "    <li>Simple Deep Neural Network with Dropout (more than 1 hidden layer)</li>\n",
        "</ul> \n"
      ]
    },
    {
      "cell_type": "markdown",
      "metadata": {
        "id": "Tfg17o6-Zbeq"
      },
      "source": [
        "<hr>\n"
      ]
    },
    {
      "cell_type": "markdown",
      "metadata": {
        "id": "X3S1b1xhZbeq"
      },
      "source": [
        "<a id=\"ref6\"></a>\n",
        "\n",
        "<h2>2nd part: Deep Learning applied on MNIST</h2>\n"
      ]
    },
    {
      "cell_type": "markdown",
      "metadata": {
        "id": "T41y1-uWZber"
      },
      "source": [
        "In the first part, we learned how to use a simple ANN to classify MNIST. Now we are going to expand our knowledge using a Deep Neural Network. \n",
        "\n",
        "Architecture of our network is:\n",
        "\n",
        "-   (Input) -> [batch_size, 28, 28, 1]  >> Apply 32 filter of [5x5]\n",
        "-   (Convolutional layer 1)  -> [batch_size, 28, 28, 32]\n",
        "-   (ReLU 1)  -> [?, 28, 28, 32]\n",
        "-   (Max pooling 1) -> [?, 14, 14, 32]\n",
        "-   (Convolutional layer 2)  -> [?, 14, 14, 64] \n",
        "-   (ReLU 2)  -> [?, 14, 14, 64] \n",
        "-   (Max pooling 2)  -> [?, 7, 7, 64] \n",
        "-   [fully connected layer 3] -> [1x1024]\n",
        "-   [ReLU 3]  -> [1x1024]\n",
        "-   [Drop out]  -> [1x1024]\n",
        "-   [fully connected layer 4] -> [1x10]\n",
        "\n",
        "The next cells will explore this new architecture.\n"
      ]
    },
    {
      "cell_type": "markdown",
      "metadata": {
        "id": "hYIg9wEPZber"
      },
      "source": [
        "<h3>The MNIST data</h3>\n"
      ]
    },
    {
      "cell_type": "markdown",
      "metadata": {
        "jupyter": {
          "outputs_hidden": true
        },
        "id": "pBMYdbvcZbes"
      },
      "source": [
        "The MNIST Dataset will be used from the above example.\n"
      ]
    },
    {
      "cell_type": "markdown",
      "metadata": {
        "id": "VKPsa_IpZbet"
      },
      "source": [
        "<h3>Initial parameters</h3>\n"
      ]
    },
    {
      "cell_type": "markdown",
      "metadata": {
        "id": "DhfpaVLIZbet"
      },
      "source": [
        "Create general parameters for the model\n"
      ]
    },
    {
      "cell_type": "code",
      "metadata": {
        "id": "8O3HfaU6Zbeu"
      },
      "source": [
        "width = 28 # width of the image in pixels \n",
        "height = 28 # height of the image in pixels\n",
        "flat = width * height # number of pixels in one image \n",
        "class_output = 10 # number of possible classifications for the problem"
      ],
      "execution_count": 28,
      "outputs": []
    },
    {
      "cell_type": "markdown",
      "metadata": {
        "id": "TcuL4EBTZbex"
      },
      "source": [
        "<h4>Converting images of the data set to tensors</h4>\n"
      ]
    },
    {
      "cell_type": "markdown",
      "metadata": {
        "id": "pYjFD3B3Zbey"
      },
      "source": [
        "The input image is 28 pixels by 28 pixels, 1 channel (grayscale). In this case, the first dimension is the <b>batch number</b> of the image, and can be of any size (so we set it to -1). The second and third dimensions are width and height, and the last one is the image channels.\n"
      ]
    },
    {
      "cell_type": "code",
      "metadata": {
        "id": "_kDn3_Y5Zbey",
        "outputId": "c0466a36-afce-49c8-c06c-05602dae0721",
        "colab": {
          "base_uri": "https://localhost:8080/",
          "height": 376
        }
      },
      "source": [
        "x_image_train = tf.reshape(x_train, [-1,28,28,1])  \n",
        "x_image_train = tf.cast(x_image_train, 'float32') \n",
        "\n",
        "x_image_test = tf.reshape(x_test, [-1,28,28,1]) \n",
        "x_image_test = tf.cast(x_image_test, 'float32') \n",
        "\n",
        "#creating new dataset with reshaped inputs\n",
        "train_ds2 = tf.data.Dataset.from_tensor_slices((x_image_train, y_train)).batch(50)\n",
        "test_ds2 = tf.data.Dataset.from_tensor_slices((x_image_test, y_test)).batch(50)"
      ],
      "execution_count": 27,
      "outputs": [
        {
          "output_type": "error",
          "ename": "ValueError",
          "evalue": "ignored",
          "traceback": [
            "\u001b[0;31m---------------------------------------------------------------------------\u001b[0m",
            "\u001b[0;31mValueError\u001b[0m                                Traceback (most recent call last)",
            "\u001b[0;32m<ipython-input-27-c58e76fb08a9>\u001b[0m in \u001b[0;36m<module>\u001b[0;34m()\u001b[0m\n\u001b[1;32m      6\u001b[0m \u001b[0;34m\u001b[0m\u001b[0m\n\u001b[1;32m      7\u001b[0m \u001b[0;31m#creating new dataset with reshaped inputs\u001b[0m\u001b[0;34m\u001b[0m\u001b[0;34m\u001b[0m\u001b[0;34m\u001b[0m\u001b[0m\n\u001b[0;32m----> 8\u001b[0;31m \u001b[0mtrain_ds2\u001b[0m \u001b[0;34m=\u001b[0m \u001b[0mtf\u001b[0m\u001b[0;34m.\u001b[0m\u001b[0mdata\u001b[0m\u001b[0;34m.\u001b[0m\u001b[0mDataset\u001b[0m\u001b[0;34m.\u001b[0m\u001b[0mfrom_tensor_slices\u001b[0m\u001b[0;34m(\u001b[0m\u001b[0;34m(\u001b[0m\u001b[0mx_image_train\u001b[0m\u001b[0;34m,\u001b[0m \u001b[0my_train\u001b[0m\u001b[0;34m)\u001b[0m\u001b[0;34m)\u001b[0m\u001b[0;34m.\u001b[0m\u001b[0mbatch\u001b[0m\u001b[0;34m(\u001b[0m\u001b[0;36m50\u001b[0m\u001b[0;34m)\u001b[0m\u001b[0;34m\u001b[0m\u001b[0;34m\u001b[0m\u001b[0m\n\u001b[0m\u001b[1;32m      9\u001b[0m \u001b[0mtest_ds2\u001b[0m \u001b[0;34m=\u001b[0m \u001b[0mtf\u001b[0m\u001b[0;34m.\u001b[0m\u001b[0mdata\u001b[0m\u001b[0;34m.\u001b[0m\u001b[0mDataset\u001b[0m\u001b[0;34m.\u001b[0m\u001b[0mfrom_tensor_slices\u001b[0m\u001b[0;34m(\u001b[0m\u001b[0;34m(\u001b[0m\u001b[0mx_image_test\u001b[0m\u001b[0;34m,\u001b[0m \u001b[0my_test\u001b[0m\u001b[0;34m)\u001b[0m\u001b[0;34m)\u001b[0m\u001b[0;34m.\u001b[0m\u001b[0mbatch\u001b[0m\u001b[0;34m(\u001b[0m\u001b[0;36m50\u001b[0m\u001b[0;34m)\u001b[0m\u001b[0;34m\u001b[0m\u001b[0;34m\u001b[0m\u001b[0m\n",
            "\u001b[0;32m/usr/local/lib/python3.6/dist-packages/tensorflow/python/data/ops/dataset_ops.py\u001b[0m in \u001b[0;36mfrom_tensor_slices\u001b[0;34m(tensors)\u001b[0m\n\u001b[1;32m    638\u001b[0m       \u001b[0mDataset\u001b[0m\u001b[0;34m:\u001b[0m \u001b[0mA\u001b[0m\u001b[0;31m \u001b[0m\u001b[0;31m`\u001b[0m\u001b[0mDataset\u001b[0m\u001b[0;31m`\u001b[0m\u001b[0;34m.\u001b[0m\u001b[0;34m\u001b[0m\u001b[0;34m\u001b[0m\u001b[0m\n\u001b[1;32m    639\u001b[0m     \"\"\"\n\u001b[0;32m--> 640\u001b[0;31m     \u001b[0;32mreturn\u001b[0m \u001b[0mTensorSliceDataset\u001b[0m\u001b[0;34m(\u001b[0m\u001b[0mtensors\u001b[0m\u001b[0;34m)\u001b[0m\u001b[0;34m\u001b[0m\u001b[0;34m\u001b[0m\u001b[0m\n\u001b[0m\u001b[1;32m    641\u001b[0m \u001b[0;34m\u001b[0m\u001b[0m\n\u001b[1;32m    642\u001b[0m   \u001b[0;32mclass\u001b[0m \u001b[0m_GeneratorState\u001b[0m\u001b[0;34m(\u001b[0m\u001b[0mobject\u001b[0m\u001b[0;34m)\u001b[0m\u001b[0;34m:\u001b[0m\u001b[0;34m\u001b[0m\u001b[0;34m\u001b[0m\u001b[0m\n",
            "\u001b[0;32m/usr/local/lib/python3.6/dist-packages/tensorflow/python/data/ops/dataset_ops.py\u001b[0m in \u001b[0;36m__init__\u001b[0;34m(self, element)\u001b[0m\n\u001b[1;32m   2866\u001b[0m     \u001b[0;32mfor\u001b[0m \u001b[0mt\u001b[0m \u001b[0;32min\u001b[0m \u001b[0mself\u001b[0m\u001b[0;34m.\u001b[0m\u001b[0m_tensors\u001b[0m\u001b[0;34m[\u001b[0m\u001b[0;36m1\u001b[0m\u001b[0;34m:\u001b[0m\u001b[0;34m]\u001b[0m\u001b[0;34m:\u001b[0m\u001b[0;34m\u001b[0m\u001b[0;34m\u001b[0m\u001b[0m\n\u001b[1;32m   2867\u001b[0m       batch_dim.assert_is_compatible_with(tensor_shape.Dimension(\n\u001b[0;32m-> 2868\u001b[0;31m           tensor_shape.dimension_value(t.get_shape()[0])))\n\u001b[0m\u001b[1;32m   2869\u001b[0m \u001b[0;34m\u001b[0m\u001b[0m\n\u001b[1;32m   2870\u001b[0m     variant_tensor = gen_dataset_ops.tensor_slice_dataset(\n",
            "\u001b[0;32m/usr/local/lib/python3.6/dist-packages/tensorflow/python/framework/tensor_shape.py\u001b[0m in \u001b[0;36massert_is_compatible_with\u001b[0;34m(self, other)\u001b[0m\n\u001b[1;32m    274\u001b[0m     \u001b[0;32mif\u001b[0m \u001b[0;32mnot\u001b[0m \u001b[0mself\u001b[0m\u001b[0;34m.\u001b[0m\u001b[0mis_compatible_with\u001b[0m\u001b[0;34m(\u001b[0m\u001b[0mother\u001b[0m\u001b[0;34m)\u001b[0m\u001b[0;34m:\u001b[0m\u001b[0;34m\u001b[0m\u001b[0;34m\u001b[0m\u001b[0m\n\u001b[1;32m    275\u001b[0m       raise ValueError(\"Dimensions %s and %s are not compatible\" %\n\u001b[0;32m--> 276\u001b[0;31m                        (self, other))\n\u001b[0m\u001b[1;32m    277\u001b[0m \u001b[0;34m\u001b[0m\u001b[0m\n\u001b[1;32m    278\u001b[0m   \u001b[0;32mdef\u001b[0m \u001b[0mmerge_with\u001b[0m\u001b[0;34m(\u001b[0m\u001b[0mself\u001b[0m\u001b[0;34m,\u001b[0m \u001b[0mother\u001b[0m\u001b[0;34m)\u001b[0m\u001b[0;34m:\u001b[0m\u001b[0;34m\u001b[0m\u001b[0;34m\u001b[0m\u001b[0m\n",
            "\u001b[0;31mValueError\u001b[0m: Dimensions 60000 and 10000 are not compatible"
          ]
        }
      ]
    },
    {
      "cell_type": "code",
      "metadata": {
        "id": "-abSKUOGZbe4"
      },
      "source": [
        "x_image_train = tf.slice(x_image_train,[0,0,0,0],[10000, 28, 28, 1])\n",
        "y_train = tf.slice(y_train,[0,0],[10000, 10])"
      ],
      "execution_count": 29,
      "outputs": []
    },
    {
      "cell_type": "markdown",
      "metadata": {
        "id": "brcdA9pJZbe7"
      },
      "source": [
        "<h3>Convolutional Layer 1</h3>\n"
      ]
    },
    {
      "cell_type": "markdown",
      "metadata": {
        "id": "HDWFGOFtZbe7"
      },
      "source": [
        "<h4>Defining kernel weight and bias</h4>\n",
        "We define a kernel here. The Size of the filter/kernel is 5x5;  Input channels is 1 (grayscale);  and we need 32 different feature maps (here, 32 feature maps means 32 different filters are applied on each image. So, the output of convolution layer would be 28x28x32). In this step, we create a filter / kernel tensor of shape <code>[filter_height, filter_width, in_channels, out_channels]</code>\n"
      ]
    },
    {
      "cell_type": "code",
      "metadata": {
        "id": "Hf0wBDmYZbe8"
      },
      "source": [
        "W_conv1 = tf.Variable(tf.random.truncated_normal([5, 5, 1, 32], stddev=0.1, seed=0))\n",
        "b_conv1 = tf.Variable(tf.constant(0.1, shape=[32])) # need 32 biases for 32 outputs"
      ],
      "execution_count": 30,
      "outputs": []
    },
    {
      "cell_type": "code",
      "metadata": {
        "id": "9QqYvpWxZbe_"
      },
      "source": [
        "def convolve1(x):\n",
        "    return(\n",
        "        tf.nn.conv2d(x, W_conv1, strides=[1, 1, 1, 1], padding='SAME') + b_conv1)"
      ],
      "execution_count": 31,
      "outputs": []
    },
    {
      "cell_type": "markdown",
      "metadata": {
        "id": "rlOVkj4mZbfC"
      },
      "source": [
        "<h4>Apply the ReLU activation Function</h4>\n"
      ]
    },
    {
      "cell_type": "markdown",
      "metadata": {
        "id": "2zyqQwNWZbfC"
      },
      "source": [
        "In this step, we just go through all outputs convolution layer, <b>convolve1</b>, and wherever a negative number occurs, we swap it out for a 0. It is called ReLU activation Function.<br> Let f(x) is a ReLU activation function $f(x) = max(0,x)$.\n"
      ]
    },
    {
      "cell_type": "code",
      "metadata": {
        "id": "pdZqTAfqZbfD"
      },
      "source": [
        "def h_conv1(x): return(tf.nn.relu(convolve1(x)))"
      ],
      "execution_count": 32,
      "outputs": []
    },
    {
      "cell_type": "markdown",
      "metadata": {
        "id": "2qIIdVNnZbfK"
      },
      "source": [
        "<h4>Apply the max pooling</h4>\n"
      ]
    },
    {
      "cell_type": "code",
      "metadata": {
        "id": "CKIiJwYXZbfL"
      },
      "source": [
        "def conv1(x):\n",
        "    return tf.nn.max_pool(h_conv1(x), ksize=[1, 2, 2, 1], \n",
        "                          strides=[1, 2, 2, 1], padding='SAME')"
      ],
      "execution_count": 33,
      "outputs": []
    },
    {
      "cell_type": "markdown",
      "metadata": {
        "id": "QJWGFj69ZbfO"
      },
      "source": [
        "First layer completed\n"
      ]
    },
    {
      "cell_type": "markdown",
      "metadata": {
        "id": "ycI-sowPZbfP"
      },
      "source": [
        "<h3>Convolutional Layer 2</h3>\n",
        "<h4>Weights and Biases of kernels</h4>\n"
      ]
    },
    {
      "cell_type": "markdown",
      "metadata": {
        "id": "4z_efXDVZbfS"
      },
      "source": [
        "We apply the convolution again in this layer. Lets look at the second layer kernel:  \n",
        "\n",
        "-   Filter/kernel: 5x5 (25 pixels) \n",
        "-   Input channels: 32 (from the 1st Conv layer, we had 32 feature maps) \n",
        "-   64 output feature maps  \n",
        "\n",
        "<b>Notice:</b> here, the input image is [14x14x32], the filter is [5x5x32], we use 64 filters of size [5x5x32], and the output of the convolutional layer would be 64 convolved image, [14x14x64].\n",
        "\n",
        "<b>Notice:</b> the convolution result of applying a filter of size [5x5x32] on image of size [14x14x32] is an image of size [14x14x1], that is, the convolution is functioning on volume.\n"
      ]
    },
    {
      "cell_type": "code",
      "metadata": {
        "id": "YXweFJbEZbfU"
      },
      "source": [
        "W_conv2 = tf.Variable(tf.random.truncated_normal([5, 5, 32, 64], stddev=0.1, seed=1))\n",
        "b_conv2 = tf.Variable(tf.constant(0.1, shape=[64])) #need 64 biases for 64 outputs"
      ],
      "execution_count": 34,
      "outputs": []
    },
    {
      "cell_type": "markdown",
      "metadata": {
        "id": "OHuPgKfQZbfZ"
      },
      "source": [
        "<h4>Convolve image with weight tensor and add biases.</h4>\n"
      ]
    },
    {
      "cell_type": "code",
      "metadata": {
        "id": "B0zpB2zAZbfZ"
      },
      "source": [
        "def convolve2(x): \n",
        "    return( \n",
        "    tf.nn.conv2d(conv1(x), W_conv2, strides=[1, 1, 1, 1], padding='SAME') + b_conv2)"
      ],
      "execution_count": 35,
      "outputs": []
    },
    {
      "cell_type": "markdown",
      "metadata": {
        "id": "D2oUarq4Zbfd"
      },
      "source": [
        "<h4>Apply the ReLU activation Function</h4>\n"
      ]
    },
    {
      "cell_type": "code",
      "metadata": {
        "id": "9_Tj8-kQZbfd"
      },
      "source": [
        "def h_conv2(x):  return tf.nn.relu(convolve2(x))"
      ],
      "execution_count": 36,
      "outputs": []
    },
    {
      "cell_type": "markdown",
      "metadata": {
        "id": "plKxuE95Zbfh"
      },
      "source": [
        "<h4>Apply the max pooling</h4>\n"
      ]
    },
    {
      "cell_type": "code",
      "metadata": {
        "id": "fSnucotsZbfi"
      },
      "source": [
        "def conv2(x):  \n",
        "    return(\n",
        "    tf.nn.max_pool(h_conv2(x), ksize=[1, 2, 2, 1], strides=[1, 2, 2, 1], padding='SAME'))"
      ],
      "execution_count": 37,
      "outputs": []
    },
    {
      "cell_type": "markdown",
      "metadata": {
        "id": "orj7Xvf3Zbfk"
      },
      "source": [
        "Second layer completed. So, what is the output of the second layer, layer2?\n",
        "\n",
        "-   it is 64 matrix of [7x7]\n"
      ]
    },
    {
      "cell_type": "markdown",
      "metadata": {
        "id": "R-z2OtigZbfl"
      },
      "source": [
        "<h3>Fully Connected Layer</h3>\n"
      ]
    },
    {
      "cell_type": "markdown",
      "metadata": {
        "id": "KQzPRvZFZbfl"
      },
      "source": [
        "<h4>Flattening Second Layer</h4>\n"
      ]
    },
    {
      "cell_type": "code",
      "metadata": {
        "id": "6ccOLs6xZbfn"
      },
      "source": [
        "def layer2_matrix(x): return tf.reshape(conv2(x), [-1, 7 * 7 * 64])"
      ],
      "execution_count": 38,
      "outputs": []
    },
    {
      "cell_type": "markdown",
      "metadata": {
        "id": "cBwhw4GyZbfs"
      },
      "source": [
        "<h4>Weights and Biases between layer 2 and 3</h4>\n"
      ]
    },
    {
      "cell_type": "markdown",
      "metadata": {
        "id": "cMgywbZhZbft"
      },
      "source": [
        "Composition of the feature map from the last layer (7x7) multiplied by the number of feature maps (64); 1027 outputs to Softmax layer\n"
      ]
    },
    {
      "cell_type": "code",
      "metadata": {
        "id": "teiQ_xQDZbfu"
      },
      "source": [
        "W_fc1 = tf.Variable(tf.random.truncated_normal([7 * 7 * 64, 1024], stddev=0.1, seed = 2))\n",
        "b_fc1 = tf.Variable(tf.constant(0.1, shape=[1024])) # need 1024 biases for 1024 outputs"
      ],
      "execution_count": 39,
      "outputs": []
    },
    {
      "cell_type": "markdown",
      "metadata": {
        "id": "c-oz1PbtZbfw"
      },
      "source": [
        "<h4>Matrix Multiplication (applying weights and biases)</h4>\n"
      ]
    },
    {
      "cell_type": "code",
      "metadata": {
        "id": "v2FTjQ8hZbfx"
      },
      "source": [
        "def fcl(x): return tf.matmul(layer2_matrix(x), W_fc1) + b_fc1"
      ],
      "execution_count": 40,
      "outputs": []
    },
    {
      "cell_type": "markdown",
      "metadata": {
        "id": "bLLsRbXgZbfz"
      },
      "source": [
        "<h4>Apply the ReLU activation Function</h4>\n"
      ]
    },
    {
      "cell_type": "code",
      "metadata": {
        "id": "Kq9EVAsDZbfz"
      },
      "source": [
        "def h_fc1(x): return tf.nn.relu(fcl(x))"
      ],
      "execution_count": 41,
      "outputs": []
    },
    {
      "cell_type": "markdown",
      "metadata": {
        "id": "2eAT1YytZbf3"
      },
      "source": [
        "Third layer completed\n"
      ]
    },
    {
      "cell_type": "markdown",
      "metadata": {
        "id": "yDXFWr_YZbf5"
      },
      "source": [
        "<h4>Dropout Layer, Optional phase for reducing overfitting</h4>\n"
      ]
    },
    {
      "cell_type": "markdown",
      "metadata": {
        "id": "9u7uPV8OZbf6"
      },
      "source": [
        "It is a phase where the network \"forget\" some features. At each training step in a mini-batch, some units get switched off randomly so that it will not interact with the network. That is, it weights cannot be updated, nor affect the learning of the other network nodes.  This can be very useful for very large neural networks to prevent overfitting.\n"
      ]
    },
    {
      "cell_type": "code",
      "metadata": {
        "id": "fyoVe6qVZbf7"
      },
      "source": [
        "keep_prob=0.5\n",
        "def layer_drop(x): return tf.nn.dropout(h_fc1(x), keep_prob)"
      ],
      "execution_count": 42,
      "outputs": []
    },
    {
      "cell_type": "markdown",
      "metadata": {
        "id": "gJwsYuy4Zbf_"
      },
      "source": [
        "<h4>Readout Layer (Softmax Layer)</h4>\n"
      ]
    },
    {
      "cell_type": "markdown",
      "metadata": {
        "id": "0P7IAgArZbgA"
      },
      "source": [
        "Type: Softmax, Fully Connected Layer.\n"
      ]
    },
    {
      "cell_type": "markdown",
      "metadata": {
        "id": "nC7xyTd2ZbgA"
      },
      "source": [
        "<h4>Weights and Biases</h4>\n"
      ]
    },
    {
      "cell_type": "markdown",
      "metadata": {
        "id": "bvTjsgIOZbgE"
      },
      "source": [
        "In last layer, CNN takes the high-level filtered images and translate them into votes using softmax.\n",
        "Input channels: 1024 (neurons from the 3rd Layer); 10 output features\n"
      ]
    },
    {
      "cell_type": "code",
      "metadata": {
        "id": "qz-OA7H5ZbgE"
      },
      "source": [
        "W_fc2 = tf.Variable(tf.random.truncated_normal([1024, 10], stddev=0.1, seed = 2)) #1024 neurons\n",
        "b_fc2 = tf.Variable(tf.constant(0.1, shape=[10])) # 10 possibilities for digits [0,1,2,3,4,5,6,7,8,9]"
      ],
      "execution_count": 43,
      "outputs": []
    },
    {
      "cell_type": "markdown",
      "metadata": {
        "id": "pwTHPgYiZbgI"
      },
      "source": [
        "<h4>Matrix Multiplication (applying weights and biases)</h4>\n"
      ]
    },
    {
      "cell_type": "code",
      "metadata": {
        "id": "wuJTvSixZbgJ"
      },
      "source": [
        "def fc(x): return tf.matmul(layer_drop(x), W_fc2) + b_fc2"
      ],
      "execution_count": 44,
      "outputs": []
    },
    {
      "cell_type": "markdown",
      "metadata": {
        "id": "A4OlR9CUZbgP"
      },
      "source": [
        "<h4>Apply the Softmax activation Function</h4>\n",
        "<b>softmax</b> allows us to interpret the outputs of <b>fcl4</b> as probabilities. So, <b>y_conv</b> is a tensor of probabilities.\n"
      ]
    },
    {
      "cell_type": "code",
      "metadata": {
        "id": "9W4xn0E0ZbgQ"
      },
      "source": [
        "def y_CNN(x): return tf.nn.softmax(fc(x))"
      ],
      "execution_count": 45,
      "outputs": []
    },
    {
      "cell_type": "markdown",
      "metadata": {
        "id": "1ywC4Xw-ZbgS"
      },
      "source": [
        "* * *\n"
      ]
    },
    {
      "cell_type": "markdown",
      "metadata": {
        "id": "HY1nTAsnZbgT"
      },
      "source": [
        "<a id=\"ref7\"></a>\n",
        "\n",
        "<h2>Summary of the Deep Convolutional Neural Network</h2>\n"
      ]
    },
    {
      "cell_type": "markdown",
      "metadata": {
        "id": "me-kG2_sZbgT"
      },
      "source": [
        "Now is time to remember the structure of  our network\n"
      ]
    },
    {
      "cell_type": "markdown",
      "metadata": {
        "id": "xx9oMyQTZbgT"
      },
      "source": [
        "#### 0) Input - MNIST dataset\n",
        "\n",
        "#### 1) Convolutional and Max-Pooling\n",
        "\n",
        "#### 2) Convolutional and Max-Pooling\n",
        "\n",
        "#### 3) Fully Connected Layer\n",
        "\n",
        "#### 4) Processing - Dropout\n",
        "\n",
        "#### 5) Readout layer - Fully Connected\n",
        "\n",
        "#### 6) Outputs - Classified digits\n"
      ]
    },
    {
      "cell_type": "markdown",
      "metadata": {
        "id": "oH6041c9ZbgU"
      },
      "source": [
        "* * *\n"
      ]
    },
    {
      "cell_type": "markdown",
      "metadata": {
        "id": "LSo1SUUQZbgV"
      },
      "source": [
        "<a id=\"ref8\"></a>\n",
        "\n",
        "<h2>Define functions and train the model</h2>\n"
      ]
    },
    {
      "cell_type": "markdown",
      "metadata": {
        "id": "aECnERrvZbgV"
      },
      "source": [
        "<h4>Define the loss function</h4>\n",
        "\n",
        "We need to compare our output, layer4 tensor, with ground truth for all mini_batch. we can use <b>cross entropy>/b> to see how bad our CNN is working - to measure the error at a softmax layer.\n",
        "\n",
        "The following code shows an toy sample of cross-entropy for a mini-batch of size 2 which its items have been classified. You can run it (first change the cell type to <b>code</b> in the toolbar) to see how cross entropy changes.\n"
      ]
    },
    {
      "cell_type": "markdown",
      "metadata": {
        "id": "Oq03SP4BZbgX"
      },
      "source": [
        "import numpy as np\n",
        "layer4_test =[[0.9, 0.1, 0.1],[0.9, 0.1, 0.1]]\n",
        "y_test=[[1.0, 0.0, 0.0],[1.0, 0.0, 0.0]]\n",
        "np.mean( -np.sum(y_test * np.log(layer4_test),1))"
      ]
    },
    {
      "cell_type": "markdown",
      "metadata": {
        "id": "DarZf2DJZbgX"
      },
      "source": [
        "<b>reduce_sum</b> computes the sum of elements of <b>(y_ \\* tf.log(layer4)</b> across second dimension of the tensor, and <b>reduce_mean</b> computes the mean of all elements in the tensor..\n",
        "\n",
        "$$ CrossEntropy = \\\\sum{y_{Label}\\\\cdot \\\\log(y_{Prediction})}$$\n"
      ]
    },
    {
      "cell_type": "code",
      "metadata": {
        "id": "m37C4VX_ZbgY"
      },
      "source": [
        "def cross_entropy(y_label, y_pred):\n",
        "    return (-tf.reduce_sum(y_label * tf.math.log(y_pred + 1.e-10)))"
      ],
      "execution_count": 46,
      "outputs": []
    },
    {
      "cell_type": "markdown",
      "metadata": {
        "id": "ZWS_JdvEZbgb"
      },
      "source": [
        "<h4>Define the optimizer</h4>\n",
        "\n",
        "It is obvious that we want minimize the error of our network which is calculated by cross_entropy metric. To solve the problem, we have to compute gradients for the loss (which is minimizing the cross-entropy) and apply gradients to variables. It will be done by an optimizer: GradientDescent or Adagrad. \n"
      ]
    },
    {
      "cell_type": "code",
      "metadata": {
        "id": "8GSKohkzZbgc"
      },
      "source": [
        "optimizer = tf.keras.optimizers.Adam(1e-4)"
      ],
      "execution_count": 47,
      "outputs": []
    },
    {
      "cell_type": "markdown",
      "metadata": {
        "id": "pFu9YIBfZbge"
      },
      "source": [
        "Following the convention of our first example, we will use `GradientTape` to define a model.\n"
      ]
    },
    {
      "cell_type": "code",
      "metadata": {
        "id": "66Ez-rrYZbge"
      },
      "source": [
        "variables = [W_conv1, b_conv1, W_conv2, b_conv2, \n",
        "             W_fc1, b_fc1, W_fc2, b_fc2, ]\n",
        "\n",
        "def train_step(x, y):\n",
        "    with tf.GradientTape() as tape:\n",
        "        current_loss = cross_entropy( y, y_CNN( x ))\n",
        "        grads = tape.gradient( current_loss , variables )\n",
        "        optimizer.apply_gradients( zip( grads , variables ) )\n",
        "        return current_loss.numpy()\n"
      ],
      "execution_count": 48,
      "outputs": []
    },
    {
      "cell_type": "code",
      "metadata": {
        "id": "Uzx8KiVGZbgh",
        "outputId": "d221337e-3468-4d97-f72b-0d0f43900d95",
        "colab": {
          "base_uri": "https://localhost:8080/",
          "height": 53
        }
      },
      "source": [
        "\"\"\"results = []\n",
        "increment = 1000\n",
        "for start in range(0,60000,increment):\n",
        "    s = tf.slice(x_image_train,[start,0,0,0],[start+increment-1, 28, 28, 1])\n",
        "    t = y_CNN(s)\n",
        "    #results.append(t)\n",
        "\"\"\""
      ],
      "execution_count": 49,
      "outputs": [
        {
          "output_type": "execute_result",
          "data": {
            "application/vnd.google.colaboratory.intrinsic+json": {
              "type": "string"
            },
            "text/plain": [
              "'results = []\\nincrement = 1000\\nfor start in range(0,60000,increment):\\n    s = tf.slice(x_image_train,[start,0,0,0],[start+increment-1, 28, 28, 1])\\n    t = y_CNN(s)\\n    #results.append(t)\\n'"
            ]
          },
          "metadata": {
            "tags": []
          },
          "execution_count": 49
        }
      ]
    },
    {
      "cell_type": "markdown",
      "metadata": {
        "id": "VtuvBfyFZbgj"
      },
      "source": [
        "<h4>Define prediction</h4>\n",
        "Do you want to know how many of the cases in a mini-batch has been classified correctly? lets count them.\n"
      ]
    },
    {
      "cell_type": "code",
      "metadata": {
        "id": "qyV9eeFwZbgl"
      },
      "source": [
        "correct_prediction = tf.equal(tf.argmax(y_CNN(x_image_train), axis=1), tf.argmax(y_train, axis=1))"
      ],
      "execution_count": 50,
      "outputs": []
    },
    {
      "cell_type": "markdown",
      "metadata": {
        "id": "UNLU0mWbZbgo"
      },
      "source": [
        "<h4>Define accuracy</h4>\n",
        "It makes more sense to report accuracy using average of correct cases.\n"
      ]
    },
    {
      "cell_type": "code",
      "metadata": {
        "id": "AQFNPtjWZbgp"
      },
      "source": [
        "accuracy = tf.reduce_mean(tf.cast(correct_prediction, 'float32'))"
      ],
      "execution_count": 51,
      "outputs": []
    },
    {
      "cell_type": "markdown",
      "metadata": {
        "id": "bOg9ds48Zbgr"
      },
      "source": [
        "<h4>Run session, train</h4>\n"
      ]
    },
    {
      "cell_type": "markdown",
      "metadata": {
        "id": "x86-UjGVZbgr"
      },
      "source": [
        "<i>If you want a fast result (<b>it might take sometime to train it</b>)</i>\n"
      ]
    },
    {
      "cell_type": "code",
      "metadata": {
        "id": "fjw00ylgZbgs",
        "outputId": "5be92548-8032-4856-9f67-85a5cc642c5b",
        "colab": {
          "base_uri": "https://localhost:8080/"
        }
      },
      "source": [
        "loss_values=[]\n",
        "accuracies = []\n",
        "epochs = 1\n",
        "\n",
        "for i in range(epochs):\n",
        "    j=0\n",
        "    # each batch has 50 examples\n",
        "    for x_train_batch, y_train_batch in train_ds2:\n",
        "        j+=1\n",
        "        current_loss = train_step(x_train_batch, y_train_batch)\n",
        "        if j%50==0: #reporting intermittent batch statistics\n",
        "            correct_prediction = tf.equal(tf.argmax(y_CNN(x_train_batch), axis=1),\n",
        "                                  tf.argmax(y_train_batch, axis=1))\n",
        "            #  accuracy\n",
        "            accuracy = tf.reduce_mean(tf.cast(correct_prediction, tf.float32)).numpy()\n",
        "            print(\"epoch \", str(i), \"batch\", str(j), \"loss:\", str(current_loss),\n",
        "                     \"accuracy\", str(accuracy)) \n",
        "            \n",
        "    current_loss = cross_entropy( y_train, y_CNN( x_image_train )).numpy()\n",
        "    loss_values.append(current_loss)\n",
        "    correct_prediction = tf.equal(tf.argmax(y_CNN(x_image_train), axis=1),\n",
        "                                  tf.argmax(y_train, axis=1))\n",
        "    #  accuracy\n",
        "    accuracy = tf.reduce_mean(tf.cast(correct_prediction, tf.float32)).numpy()\n",
        "    accuracies.append(accuracy)\n",
        "    print(\"end of epoch \", str(i), \"loss\", str(current_loss), \"accuracy\", str(accuracy) )  "
      ],
      "execution_count": 52,
      "outputs": [
        {
          "output_type": "stream",
          "text": [
            "epoch  0 batch 50 loss: 137.44476 accuracy 0.46\n",
            "epoch  0 batch 100 loss: 63.481216 accuracy 0.64\n",
            "epoch  0 batch 150 loss: 51.46707 accuracy 0.72\n",
            "epoch  0 batch 200 loss: 21.955313 accuracy 0.88\n",
            "epoch  0 batch 250 loss: 27.83894 accuracy 0.84\n",
            "epoch  0 batch 300 loss: 21.384325 accuracy 0.82\n",
            "epoch  0 batch 350 loss: 24.33251 accuracy 0.88\n",
            "epoch  0 batch 400 loss: 17.273327 accuracy 0.9\n",
            "epoch  0 batch 450 loss: 18.680859 accuracy 0.76\n",
            "epoch  0 batch 500 loss: 15.199064 accuracy 0.94\n",
            "epoch  0 batch 550 loss: 21.49579 accuracy 0.94\n",
            "epoch  0 batch 600 loss: 17.769232 accuracy 0.86\n",
            "epoch  0 batch 650 loss: 20.247305 accuracy 0.9\n",
            "epoch  0 batch 700 loss: 9.1150055 accuracy 0.96\n",
            "epoch  0 batch 750 loss: 27.866692 accuracy 0.82\n",
            "epoch  0 batch 800 loss: 8.354647 accuracy 0.96\n",
            "epoch  0 batch 850 loss: 22.338745 accuracy 0.92\n",
            "epoch  0 batch 900 loss: 17.553133 accuracy 0.94\n",
            "epoch  0 batch 950 loss: 16.881893 accuracy 0.92\n",
            "epoch  0 batch 1000 loss: 11.143817 accuracy 0.86\n",
            "epoch  0 batch 1050 loss: 5.86343 accuracy 0.96\n",
            "epoch  0 batch 1100 loss: 13.276198 accuracy 0.9\n",
            "epoch  0 batch 1150 loss: 7.552413 accuracy 0.92\n",
            "epoch  0 batch 1200 loss: 1.9737899 accuracy 1.0\n",
            "end of epoch  0 loss 2091.054 accuracy 0.9408\n"
          ],
          "name": "stdout"
        }
      ]
    },
    {
      "cell_type": "markdown",
      "metadata": {
        "id": "XTjLaYdIZbgw"
      },
      "source": [
        "<hr>\n"
      ]
    },
    {
      "cell_type": "markdown",
      "metadata": {
        "id": "AejZyQOxZbgw"
      },
      "source": [
        "<a id=\"ref9\"></a>\n",
        "\n",
        "<h2>Evaluate the model</h2>\n"
      ]
    },
    {
      "cell_type": "markdown",
      "metadata": {
        "id": "DoFe1snfZbgx"
      },
      "source": [
        "Print the evaluation to the user\n"
      ]
    },
    {
      "cell_type": "code",
      "metadata": {
        "id": "bvoo6o4pZbgx",
        "outputId": "b931a0b4-5834-4f27-ff04-0ff353bc3fea",
        "colab": {
          "base_uri": "https://localhost:8080/"
        }
      },
      "source": [
        "j=0\n",
        "acccuracies=[]\n",
        "# evaluate accuracy by batch and average...reporting every 100th batch\n",
        "for x_train_batch, y_train_batch in train_ds2:\n",
        "        j+=1\n",
        "        correct_prediction = tf.equal(tf.argmax(y_CNN(x_train_batch), axis=1),\n",
        "                                  tf.argmax(y_train_batch, axis=1))\n",
        "        accuracy = tf.reduce_mean(tf.cast(correct_prediction, tf.float32)).numpy()\n",
        "        #accuracies.append(accuracy)\n",
        "        if j%100==0:\n",
        "            print(\"batch\", str(j), \"accuracy\", str(accuracy) ) \n",
        "import numpy as np\n",
        "print(\"accuracy of entire set\", str(np.mean(accuracies)))            "
      ],
      "execution_count": 53,
      "outputs": [
        {
          "output_type": "stream",
          "text": [
            "batch 100 accuracy 0.92\n",
            "batch 200 accuracy 0.98\n",
            "batch 300 accuracy 0.94\n",
            "batch 400 accuracy 1.0\n",
            "batch 500 accuracy 0.94\n",
            "batch 600 accuracy 0.9\n",
            "batch 700 accuracy 0.98\n",
            "batch 800 accuracy 0.94\n",
            "batch 900 accuracy 0.94\n",
            "batch 1000 accuracy 0.94\n",
            "batch 1100 accuracy 0.92\n",
            "batch 1200 accuracy 1.0\n",
            "accuracy of entire set 0.9408\n"
          ],
          "name": "stdout"
        }
      ]
    },
    {
      "cell_type": "markdown",
      "metadata": {
        "id": "AmPHwjZ1Zbg0"
      },
      "source": [
        "<h3>Visualization</h3>\n"
      ]
    },
    {
      "cell_type": "markdown",
      "metadata": {
        "id": "p2NbOI_fZbg0"
      },
      "source": [
        "Do you want to look at all the filters?\n"
      ]
    },
    {
      "cell_type": "code",
      "metadata": {
        "id": "HYhfIY8_Zbg1"
      },
      "source": [
        "kernels = tf.reshape(tf.transpose(W_conv1, perm=[2, 3, 0,1]),[32, -1])"
      ],
      "execution_count": 54,
      "outputs": []
    },
    {
      "cell_type": "code",
      "metadata": {
        "id": "7NBeASc9Zbg3",
        "outputId": "72e7c1ef-21aa-48c5-8213-5950d3225cb4",
        "colab": {
          "base_uri": "https://localhost:8080/",
          "height": 737
        }
      },
      "source": [
        "!wget --output-document utils1.py http://deeplearning.net/tutorial/code/utils.py\n",
        "import utils1\n",
        "import imp\n",
        "imp.reload(utils1)\n",
        "from utils1 import tile_raster_images\n",
        "import matplotlib.pyplot as plt\n",
        "from PIL import Image\n",
        "%matplotlib inline\n",
        "image = Image.fromarray(tile_raster_images(kernels.numpy(), img_shape=(5, 5) ,tile_shape=(4, 8), tile_spacing=(1, 1)))\n",
        "### Plot image\n",
        "plt.rcParams['figure.figsize'] = (18.0, 18.0)\n",
        "imgplot = plt.imshow(image)\n",
        "imgplot.set_cmap('gray')  "
      ],
      "execution_count": 55,
      "outputs": [
        {
          "output_type": "stream",
          "text": [
            "--2020-11-12 03:16:43--  http://deeplearning.net/tutorial/code/utils.py\n",
            "Resolving deeplearning.net (deeplearning.net)... 132.204.26.28\n",
            "Connecting to deeplearning.net (deeplearning.net)|132.204.26.28|:80... connected.\n",
            "HTTP request sent, awaiting response... 200 OK\n",
            "Length: 5097 (5.0K) [text/plain]\n",
            "Saving to: ‘utils1.py’\n",
            "\n",
            "utils1.py           100%[===================>]   4.98K  --.-KB/s    in 0s      \n",
            "\n",
            "2020-11-12 03:16:43 (492 MB/s) - ‘utils1.py’ saved [5097/5097]\n",
            "\n"
          ],
          "name": "stdout"
        },
        {
          "output_type": "display_data",
          "data": {
            "image/png": "[encoded data removed]",
            "text/plain": [
              "<Figure size 1296x1296 with 1 Axes>"
            ]
          },
          "metadata": {
            "tags": [],
            "needs_background": "light"
          }
        }
      ]
    },
    {
      "cell_type": "markdown",
      "metadata": {
        "id": "6xiDFSlpZbg4"
      },
      "source": [
        "Do you want to see the output of an image passing through first convolution layer?\n"
      ]
    },
    {
      "cell_type": "code",
      "metadata": {
        "id": "2jeLLmxDZbg5",
        "outputId": "f63e4a9d-1224-45a3-bd47-8fc8805707b6",
        "colab": {
          "base_uri": "https://localhost:8080/",
          "height": 338
        }
      },
      "source": [
        "import numpy as np\n",
        "plt.rcParams['figure.figsize'] = (5.0, 5.0)\n",
        "sampleimage = [x_image_train[0]]\n",
        "plt.imshow(np.reshape(sampleimage,[28,28]), cmap=\"gray\")"
      ],
      "execution_count": 56,
      "outputs": [
        {
          "output_type": "execute_result",
          "data": {
            "text/plain": [
              "<matplotlib.image.AxesImage at 0x7f0efc8f9080>"
            ]
          },
          "metadata": {
            "tags": []
          },
          "execution_count": 56
        },
        {
          "output_type": "display_data",
          "data": {
            "image/png": "[encoded data removed]",
            "text/plain": [
              "<Figure size 360x360 with 1 Axes>"
            ]
          },
          "metadata": {
            "tags": [],
            "needs_background": "light"
          }
        }
      ]
    },
    {
      "cell_type": "code",
      "metadata": {
        "id": "YMCG6faTZbg9",
        "outputId": "a1876f60-e562-4c84-a1b8-a6fe4c85a927",
        "colab": {
          "base_uri": "https://localhost:8080/",
          "height": 992
        }
      },
      "source": [
        "#ActivatedUnits = sess.run(convolve1,feed_dict={x:np.reshape(sampleimage,[1,784],order='F'),keep_prob:1.0})\n",
        "keep_prob=1.0\n",
        "ActivatedUnits = convolve1(sampleimage)\n",
        "                           \n",
        "filters = ActivatedUnits.shape[3]\n",
        "plt.figure(1, figsize=(20,20))\n",
        "n_columns = 6\n",
        "n_rows = np.math.ceil(filters / n_columns) + 1\n",
        "for i in range(filters):\n",
        "    plt.subplot(n_rows, n_columns, i+1)\n",
        "    plt.title('Filter ' + str(i))\n",
        "    plt.imshow(ActivatedUnits[0,:,:,i], interpolation=\"nearest\", cmap=\"gray\")"
      ],
      "execution_count": 57,
      "outputs": [
        {
          "output_type": "display_data",
          "data": {
            "image/png": "[encoded data removed]",
            "text/plain": [
              "<Figure size 1440x1440 with 32 Axes>"
            ]
          },
          "metadata": {
            "tags": [],
            "needs_background": "light"
          }
        }
      ]
    },
    {
      "cell_type": "markdown",
      "metadata": {
        "id": "jUuGjcR-ZbhA"
      },
      "source": [
        "What about second convolution layer?\n"
      ]
    },
    {
      "cell_type": "code",
      "metadata": {
        "id": "WXCqcPJjZbhB",
        "outputId": "dd83ef86-0f30-4779-9cd5-a9271f1d843d",
        "colab": {
          "base_uri": "https://localhost:8080/",
          "height": 1000
        }
      },
      "source": [
        "#ActivatedUnits = sess.run(convolve2,feed_dict={x:np.reshape(sampleimage,[1,784],order='F'),keep_prob:1.0})\n",
        "ActivatedUnits = convolve2(sampleimage)\n",
        "filters = ActivatedUnits.shape[3]\n",
        "plt.figure(1, figsize=(20,20))\n",
        "n_columns = 8\n",
        "n_rows = np.math.ceil(filters / n_columns) + 1\n",
        "for i in range(filters):\n",
        "    plt.subplot(n_rows, n_columns, i+1)\n",
        "    plt.title('Filter ' + str(i))\n",
        "    plt.imshow(ActivatedUnits[0,:,:,i], interpolation=\"nearest\", cmap=\"gray\")"
      ],
      "execution_count": 58,
      "outputs": [
        {
          "output_type": "display_data",
          "data": {
            "image/png": "[encoded data removed]",
            "text/plain": [
              "<Figure size 1440x1440 with 64 Axes>"
            ]
          },
          "metadata": {
            "tags": [],
            "needs_background": "light"
          }
        }
      ]
    },
    {
      "cell_type": "code",
      "metadata": {
        "id": "j3gZkf_odNlr"
      },
      "source": [
        ""
      ],
      "execution_count": null,
      "outputs": []
    }
  ]
}