{
  "nbformat": 4,
  "nbformat_minor": 0,
  "metadata": {
    "kernelspec": {
      "display_name": "Python 3",
      "language": "python",
      "name": "python3"
    },
    "language_info": {
      "codemirror_mode": {
        "name": "ipython",
        "version": 3
      },
      "file_extension": ".py",
      "mimetype": "text/x-python",
      "name": "python",
      "nbconvert_exporter": "python",
      "pygments_lexer": "ipython3",
      "version": "3.6.9"
    },
    "colab": {
      "name": "Mnist-Data-Classification-using-Convolutional-Neural-Networks-with-Keras_.ipynb",
      "provenance": []
    }
  },
  "cells": [
    {
      "cell_type": "markdown",
      "metadata": {
        "id": "aW3nRAUtSgQ5"
      },
      "source": [
        "In this notebook we will learn how to use the Keras library to build convolutional neural networks. We will also use the popular MNIST dataset and we will compare our results to using a conventional neural network.\n"
      ]
    },
    {
      "cell_type": "markdown",
      "metadata": {
        "id": "aKD_kA6DSgQ9"
      },
      "source": [
        "<h2>Convolutional Neural Networks with Keras</h2>\n",
        "\n",
        "<h3>Objective for this Notebook<h3>    \n",
        "<h5> 1. How to use the Keras library to build convolutional neural networks.</h5>\n",
        "<h5> 2. Convolutional Neural Network with One Convolutional and Pooling Layers.</h5>\n",
        "<h5> 3. Convolutional Neural Network with Two Convolutional and Pooling Layers.</h5>\n"
      ]
    },
    {
      "cell_type": "markdown",
      "metadata": {
        "id": "15zF__sASgQ-"
      },
      "source": [
        "<a id='item41'></a>\n"
      ]
    },
    {
      "cell_type": "markdown",
      "metadata": {
        "id": "6uCKmB5nSgQ_"
      },
      "source": [
        "## Import Keras and Packages\n"
      ]
    },
    {
      "cell_type": "markdown",
      "metadata": {
        "id": "MzOMZ548SgRA"
      },
      "source": [
        "Let's start by importing the keras libraries and the packages that we would need to build a neural network.\n"
      ]
    },
    {
      "cell_type": "code",
      "metadata": {
        "id": "CK6JQ6X1SgRB"
      },
      "source": [
        "import keras \n",
        "from keras.models import Sequential\n",
        "from keras.layers import Dense\n",
        "from keras.utils import to_categorical"
      ],
      "execution_count": 3,
      "outputs": []
    },
    {
      "cell_type": "markdown",
      "metadata": {
        "id": "BNxbGzVJSgRH"
      },
      "source": [
        "When working with convolutional neural networks in particular, we will need additional packages.\n"
      ]
    },
    {
      "cell_type": "code",
      "metadata": {
        "id": "E6_7D8ShSgRI"
      },
      "source": [
        "from keras.layers.convolutional import Conv2D # to add convolutional layers\n",
        "from keras.layers.convolutional import MaxPooling2D # to add pooling layers\n",
        "from keras.layers import Flatten # to flatten data for fully connected layers"
      ],
      "execution_count": 5,
      "outputs": []
    },
    {
      "cell_type": "markdown",
      "metadata": {
        "id": "XmP_hABhSgRN"
      },
      "source": [
        "<a id='item42'></a>\n"
      ]
    },
    {
      "cell_type": "markdown",
      "metadata": {
        "id": "T0aZ1RRESgRO"
      },
      "source": [
        "## Convolutional Layer with One set of convolutional and pooling layers\n"
      ]
    },
    {
      "cell_type": "code",
      "metadata": {
        "id": "-YHS56t5SgRO",
        "outputId": "f4f2e269-fc3b-4592-8f4f-700dbf5be87f",
        "colab": {
          "base_uri": "https://localhost:8080/"
        }
      },
      "source": [
        "# import data\n",
        "from keras.datasets import mnist\n",
        "\n",
        "# load data\n",
        "(X_train, y_train), (X_test, y_test) = mnist.load_data()\n",
        "\n",
        "# reshape to be [samples][pixels][width][height]\n",
        "X_train = X_train.reshape(X_train.shape[0], 28, 28, 1).astype('float32')\n",
        "X_test = X_test.reshape(X_test.shape[0], 28, 28, 1).astype('float32')"
      ],
      "execution_count": 6,
      "outputs": [
        {
          "output_type": "stream",
          "text": [
            "Downloading data from https://storage.googleapis.com/tensorflow/tf-keras-datasets/mnist.npz\n",
            "11493376/11490434 [==============================] - 0s 0us/step\n"
          ],
          "name": "stdout"
        }
      ]
    },
    {
      "cell_type": "markdown",
      "metadata": {
        "id": "u3_mRel1SgRS"
      },
      "source": [
        "Let's normalize the pixel values to be between 0 and 1\n"
      ]
    },
    {
      "cell_type": "code",
      "metadata": {
        "id": "DrfkUyTKSgRT"
      },
      "source": [
        "X_train = X_train / 255 # normalize training data\n",
        "X_test = X_test / 255 # normalize test data"
      ],
      "execution_count": 7,
      "outputs": []
    },
    {
      "cell_type": "markdown",
      "metadata": {
        "id": "Ys2GXa1bSgRX"
      },
      "source": [
        "Next, let's convert the target variable into binary categories\n"
      ]
    },
    {
      "cell_type": "code",
      "metadata": {
        "id": "3u4musOOSgRY"
      },
      "source": [
        "y_train = to_categorical(y_train)\n",
        "y_test = to_categorical(y_test)\n",
        "\n",
        "num_classes = y_test.shape[1] # number of categories"
      ],
      "execution_count": 8,
      "outputs": []
    },
    {
      "cell_type": "markdown",
      "metadata": {
        "id": "rXn5N-4MSgRe"
      },
      "source": [
        "Next, let's define a function that creates our model. Let's start with one set of convolutional and pooling layers.\n"
      ]
    },
    {
      "cell_type": "code",
      "metadata": {
        "id": "m77YeTrVSgRf"
      },
      "source": [
        "def convolutional_model():\n",
        "    \n",
        "    # create model\n",
        "    model = Sequential()\n",
        "    model.add(Conv2D(16, (5, 5), strides=(1, 1), activation='relu', input_shape=(28, 28, 1)))\n",
        "    model.add(MaxPooling2D(pool_size=(2, 2), strides=(2, 2)))\n",
        "    \n",
        "    model.add(Flatten())\n",
        "    model.add(Dense(100, activation='relu'))\n",
        "    model.add(Dense(num_classes, activation='softmax'))\n",
        "    \n",
        "    # compile model\n",
        "    model.compile(optimizer='adam', loss='categorical_crossentropy',  metrics=['accuracy'])\n",
        "    return model"
      ],
      "execution_count": 9,
      "outputs": []
    },
    {
      "cell_type": "markdown",
      "metadata": {
        "id": "N0FMmDu2SgRm"
      },
      "source": [
        "Finally, let's call the function to create the model, and then let's train it and evaluate it.\n"
      ]
    },
    {
      "cell_type": "code",
      "metadata": {
        "id": "e2zgjL8oSgRn",
        "outputId": "a0085c55-9874-400a-c677-e6d99a29d810",
        "colab": {
          "base_uri": "https://localhost:8080/"
        }
      },
      "source": [
        "# build the model\n",
        "model = convolutional_model()\n",
        "\n",
        "# fit the model\n",
        "model.fit(X_train, y_train, validation_data=(X_test, y_test), epochs=10, batch_size=200, verbose=2)\n",
        "\n",
        "# evaluate the model\n",
        "scores = model.evaluate(X_test, y_test, verbose=0)\n",
        "print(\"Accuracy: {} \\n Error: {}\".format(scores[1], 100-scores[1]*100))"
      ],
      "execution_count": 10,
      "outputs": [
        {
          "output_type": "stream",
          "text": [
            "Epoch 1/10\n",
            "300/300 - 18s - loss: 0.3007 - accuracy: 0.9150 - val_loss: 0.1140 - val_accuracy: 0.9673\n",
            "Epoch 2/10\n",
            "300/300 - 18s - loss: 0.0924 - accuracy: 0.9735 - val_loss: 0.0709 - val_accuracy: 0.9786\n",
            "Epoch 3/10\n",
            "300/300 - 18s - loss: 0.0624 - accuracy: 0.9818 - val_loss: 0.0556 - val_accuracy: 0.9806\n",
            "Epoch 4/10\n",
            "300/300 - 18s - loss: 0.0488 - accuracy: 0.9854 - val_loss: 0.0585 - val_accuracy: 0.9822\n",
            "Epoch 5/10\n",
            "300/300 - 18s - loss: 0.0398 - accuracy: 0.9880 - val_loss: 0.0439 - val_accuracy: 0.9848\n",
            "Epoch 6/10\n",
            "300/300 - 18s - loss: 0.0339 - accuracy: 0.9900 - val_loss: 0.0477 - val_accuracy: 0.9839\n",
            "Epoch 7/10\n",
            "300/300 - 18s - loss: 0.0280 - accuracy: 0.9916 - val_loss: 0.0469 - val_accuracy: 0.9850\n",
            "Epoch 8/10\n",
            "300/300 - 18s - loss: 0.0256 - accuracy: 0.9923 - val_loss: 0.0430 - val_accuracy: 0.9864\n",
            "Epoch 9/10\n",
            "300/300 - 18s - loss: 0.0205 - accuracy: 0.9938 - val_loss: 0.0467 - val_accuracy: 0.9846\n",
            "Epoch 10/10\n",
            "300/300 - 17s - loss: 0.0171 - accuracy: 0.9949 - val_loss: 0.0414 - val_accuracy: 0.9865\n",
            "Accuracy: 0.9865000247955322 \n",
            " Error: 1.3499975204467773\n"
          ],
          "name": "stdout"
        }
      ]
    },
    {
      "cell_type": "markdown",
      "metadata": {
        "id": "2NkPxMxMSgRq"
      },
      "source": [
        "* * *\n"
      ]
    },
    {
      "cell_type": "markdown",
      "metadata": {
        "id": "YOPd6N85SgRr"
      },
      "source": [
        "<a id='item43'></a>\n"
      ]
    },
    {
      "cell_type": "markdown",
      "metadata": {
        "id": "et4oyc6pSgRs"
      },
      "source": [
        "## Convolutional Layer with two sets of convolutional and pooling layers\n"
      ]
    },
    {
      "cell_type": "markdown",
      "metadata": {
        "id": "yAIKw3sUSgRt"
      },
      "source": [
        "Let's redefine our convolutional model so that it has two convolutional and pooling layers instead of just one layer of each.\n"
      ]
    },
    {
      "cell_type": "code",
      "metadata": {
        "id": "-aXtApJ5SgRu"
      },
      "source": [
        "def convolutional_model():\n",
        "    \n",
        "    # create model\n",
        "    model = Sequential()\n",
        "    model.add(Conv2D(16, (5, 5), activation='relu', input_shape=(28, 28, 1)))\n",
        "    model.add(MaxPooling2D(pool_size=(2, 2), strides=(2, 2)))\n",
        "    \n",
        "    model.add(Conv2D(8, (2, 2), activation='relu'))\n",
        "    model.add(MaxPooling2D(pool_size=(2, 2), strides=(2, 2)))\n",
        "    \n",
        "    model.add(Flatten())\n",
        "    model.add(Dense(100, activation='relu'))\n",
        "    model.add(Dense(num_classes, activation='softmax'))\n",
        "    \n",
        "    # Compile model\n",
        "    model.compile(optimizer='adam', loss='categorical_crossentropy',  metrics=['accuracy'])\n",
        "    return model"
      ],
      "execution_count": 11,
      "outputs": []
    },
    {
      "cell_type": "markdown",
      "metadata": {
        "id": "QgrX6VfRSgRy"
      },
      "source": [
        "Now, let's call the function to create our new convolutional neural network, and then let's train it and evaluate it.\n"
      ]
    },
    {
      "cell_type": "code",
      "metadata": {
        "id": "UJYoPVpzSgRz",
        "outputId": "169d6070-90ff-47ac-fe95-b1e055cc5656",
        "colab": {
          "base_uri": "https://localhost:8080/"
        }
      },
      "source": [
        "# build the model\n",
        "model = convolutional_model()\n",
        "\n",
        "# fit the model\n",
        "model.fit(X_train, y_train, validation_data=(X_test, y_test), epochs=10, batch_size=200, verbose=2)\n",
        "\n",
        "# evaluate the model\n",
        "scores = model.evaluate(X_test, y_test, verbose=0)\n",
        "print(\"Accuracy: {} \\n Error: {}\".format(scores[1], 100-scores[1]*100))"
      ],
      "execution_count": 12,
      "outputs": [
        {
          "output_type": "stream",
          "text": [
            "Epoch 1/10\n",
            "300/300 - 19s - loss: 0.4767 - accuracy: 0.8662 - val_loss: 0.1271 - val_accuracy: 0.9624\n",
            "Epoch 2/10\n",
            "300/300 - 19s - loss: 0.1148 - accuracy: 0.9659 - val_loss: 0.0809 - val_accuracy: 0.9754\n",
            "Epoch 3/10\n",
            "300/300 - 19s - loss: 0.0829 - accuracy: 0.9751 - val_loss: 0.0625 - val_accuracy: 0.9805\n",
            "Epoch 4/10\n",
            "300/300 - 19s - loss: 0.0669 - accuracy: 0.9795 - val_loss: 0.0577 - val_accuracy: 0.9809\n",
            "Epoch 5/10\n",
            "300/300 - 19s - loss: 0.0562 - accuracy: 0.9829 - val_loss: 0.0454 - val_accuracy: 0.9862\n",
            "Epoch 6/10\n",
            "300/300 - 19s - loss: 0.0486 - accuracy: 0.9847 - val_loss: 0.0427 - val_accuracy: 0.9859\n",
            "Epoch 7/10\n",
            "300/300 - 19s - loss: 0.0436 - accuracy: 0.9867 - val_loss: 0.0469 - val_accuracy: 0.9836\n",
            "Epoch 8/10\n",
            "300/300 - 19s - loss: 0.0401 - accuracy: 0.9876 - val_loss: 0.0393 - val_accuracy: 0.9880\n",
            "Epoch 9/10\n",
            "300/300 - 19s - loss: 0.0354 - accuracy: 0.9891 - val_loss: 0.0417 - val_accuracy: 0.9865\n",
            "Epoch 10/10\n",
            "300/300 - 19s - loss: 0.0322 - accuracy: 0.9901 - val_loss: 0.0369 - val_accuracy: 0.9879\n",
            "Accuracy: 0.9879000186920166 \n",
            " Error: 1.2099981307983398\n"
          ],
          "name": "stdout"
        }
      ]
    },
    {
      "cell_type": "markdown",
      "metadata": {
        "id": "z6FdYegGTJHN"
      },
      "source": [
        "## adding more convolution layer makes a better accuracy"
      ]
    },
    {
      "cell_type": "code",
      "metadata": {
        "id": "v6rpivywWWkH"
      },
      "source": [
        ""
      ],
      "execution_count": null,
      "outputs": []
    }
  ]
}